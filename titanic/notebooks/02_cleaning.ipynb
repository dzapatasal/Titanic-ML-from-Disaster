{
 "cells": [
  {
   "cell_type": "markdown",
   "id": "7a32b2cb",
   "metadata": {},
   "source": [
    "# Dependencias"
   ]
  },
  {
   "cell_type": "code",
   "execution_count": 2,
   "id": "f8692186",
   "metadata": {},
   "outputs": [],
   "source": [
    "import pandas as pd\n",
    "import numpy as np\n",
    "import seaborn as sns"
   ]
  },
  {
   "cell_type": "markdown",
   "id": "ba8abcc3",
   "metadata": {},
   "source": [
    "# Carga"
   ]
  },
  {
   "cell_type": "code",
   "execution_count": 3,
   "id": "904aec99",
   "metadata": {},
   "outputs": [],
   "source": [
    "path = '../data/raw/train.csv'\n",
    "df = pd.read_csv(path)"
   ]
  },
  {
   "cell_type": "code",
   "execution_count": 4,
   "id": "bfc6b148",
   "metadata": {},
   "outputs": [
    {
     "name": "stdout",
     "output_type": "stream",
     "text": [
      "<class 'pandas.core.frame.DataFrame'>\n",
      "RangeIndex: 891 entries, 0 to 890\n",
      "Data columns (total 12 columns):\n",
      " #   Column       Non-Null Count  Dtype  \n",
      "---  ------       --------------  -----  \n",
      " 0   PassengerId  891 non-null    int64  \n",
      " 1   Survived     891 non-null    int64  \n",
      " 2   Pclass       891 non-null    int64  \n",
      " 3   Name         891 non-null    object \n",
      " 4   Sex          891 non-null    object \n",
      " 5   Age          714 non-null    float64\n",
      " 6   SibSp        891 non-null    int64  \n",
      " 7   Parch        891 non-null    int64  \n",
      " 8   Ticket       891 non-null    object \n",
      " 9   Fare         891 non-null    float64\n",
      " 10  Cabin        204 non-null    object \n",
      " 11  Embarked     889 non-null    object \n",
      "dtypes: float64(2), int64(5), object(5)\n",
      "memory usage: 83.7+ KB\n"
     ]
    }
   ],
   "source": [
    "df.info()"
   ]
  },
  {
   "cell_type": "code",
   "execution_count": 5,
   "id": "38cfb91a",
   "metadata": {},
   "outputs": [
    {
     "data": {
      "application/vnd.microsoft.datawrangler.viewer.v0+json": {
       "columns": [
        {
         "name": "index",
         "rawType": "int64",
         "type": "integer"
        },
        {
         "name": "PassengerId",
         "rawType": "int64",
         "type": "integer"
        },
        {
         "name": "Survived",
         "rawType": "int64",
         "type": "integer"
        },
        {
         "name": "Pclass",
         "rawType": "int64",
         "type": "integer"
        },
        {
         "name": "Name",
         "rawType": "object",
         "type": "string"
        },
        {
         "name": "Sex",
         "rawType": "object",
         "type": "string"
        },
        {
         "name": "Age",
         "rawType": "float64",
         "type": "float"
        },
        {
         "name": "SibSp",
         "rawType": "int64",
         "type": "integer"
        },
        {
         "name": "Parch",
         "rawType": "int64",
         "type": "integer"
        },
        {
         "name": "Ticket",
         "rawType": "object",
         "type": "string"
        },
        {
         "name": "Fare",
         "rawType": "float64",
         "type": "float"
        },
        {
         "name": "Cabin",
         "rawType": "object",
         "type": "unknown"
        },
        {
         "name": "Embarked",
         "rawType": "object",
         "type": "string"
        }
       ],
       "ref": "af795fa4-98bf-4f69-8908-f22ae866d3cd",
       "rows": [
        [
         "735",
         "736",
         "0",
         "3",
         "Williams, Mr. Leslie",
         "male",
         "28.5",
         "0",
         "0",
         "54636",
         "16.1",
         null,
         "S"
        ],
        [
         "109",
         "110",
         "1",
         "3",
         "Moran, Miss. Bertha",
         "female",
         null,
         "1",
         "0",
         "371110",
         "24.15",
         null,
         "Q"
        ],
        [
         "637",
         "638",
         "0",
         "2",
         "Collyer, Mr. Harvey",
         "male",
         "31.0",
         "1",
         "1",
         "C.A. 31921",
         "26.25",
         null,
         "S"
        ],
        [
         "363",
         "364",
         "0",
         "3",
         "Asim, Mr. Adola",
         "male",
         "35.0",
         "0",
         "0",
         "SOTON/O.Q. 3101310",
         "7.05",
         null,
         "S"
        ],
        [
         "611",
         "612",
         "0",
         "3",
         "Jardin, Mr. Jose Neto",
         "male",
         null,
         "0",
         "0",
         "SOTON/O.Q. 3101305",
         "7.05",
         null,
         "S"
        ]
       ],
       "shape": {
        "columns": 12,
        "rows": 5
       }
      },
      "text/html": [
       "<div>\n",
       "<style scoped>\n",
       "    .dataframe tbody tr th:only-of-type {\n",
       "        vertical-align: middle;\n",
       "    }\n",
       "\n",
       "    .dataframe tbody tr th {\n",
       "        vertical-align: top;\n",
       "    }\n",
       "\n",
       "    .dataframe thead th {\n",
       "        text-align: right;\n",
       "    }\n",
       "</style>\n",
       "<table border=\"1\" class=\"dataframe\">\n",
       "  <thead>\n",
       "    <tr style=\"text-align: right;\">\n",
       "      <th></th>\n",
       "      <th>PassengerId</th>\n",
       "      <th>Survived</th>\n",
       "      <th>Pclass</th>\n",
       "      <th>Name</th>\n",
       "      <th>Sex</th>\n",
       "      <th>Age</th>\n",
       "      <th>SibSp</th>\n",
       "      <th>Parch</th>\n",
       "      <th>Ticket</th>\n",
       "      <th>Fare</th>\n",
       "      <th>Cabin</th>\n",
       "      <th>Embarked</th>\n",
       "    </tr>\n",
       "  </thead>\n",
       "  <tbody>\n",
       "    <tr>\n",
       "      <th>735</th>\n",
       "      <td>736</td>\n",
       "      <td>0</td>\n",
       "      <td>3</td>\n",
       "      <td>Williams, Mr. Leslie</td>\n",
       "      <td>male</td>\n",
       "      <td>28.5</td>\n",
       "      <td>0</td>\n",
       "      <td>0</td>\n",
       "      <td>54636</td>\n",
       "      <td>16.10</td>\n",
       "      <td>NaN</td>\n",
       "      <td>S</td>\n",
       "    </tr>\n",
       "    <tr>\n",
       "      <th>109</th>\n",
       "      <td>110</td>\n",
       "      <td>1</td>\n",
       "      <td>3</td>\n",
       "      <td>Moran, Miss. Bertha</td>\n",
       "      <td>female</td>\n",
       "      <td>NaN</td>\n",
       "      <td>1</td>\n",
       "      <td>0</td>\n",
       "      <td>371110</td>\n",
       "      <td>24.15</td>\n",
       "      <td>NaN</td>\n",
       "      <td>Q</td>\n",
       "    </tr>\n",
       "    <tr>\n",
       "      <th>637</th>\n",
       "      <td>638</td>\n",
       "      <td>0</td>\n",
       "      <td>2</td>\n",
       "      <td>Collyer, Mr. Harvey</td>\n",
       "      <td>male</td>\n",
       "      <td>31.0</td>\n",
       "      <td>1</td>\n",
       "      <td>1</td>\n",
       "      <td>C.A. 31921</td>\n",
       "      <td>26.25</td>\n",
       "      <td>NaN</td>\n",
       "      <td>S</td>\n",
       "    </tr>\n",
       "    <tr>\n",
       "      <th>363</th>\n",
       "      <td>364</td>\n",
       "      <td>0</td>\n",
       "      <td>3</td>\n",
       "      <td>Asim, Mr. Adola</td>\n",
       "      <td>male</td>\n",
       "      <td>35.0</td>\n",
       "      <td>0</td>\n",
       "      <td>0</td>\n",
       "      <td>SOTON/O.Q. 3101310</td>\n",
       "      <td>7.05</td>\n",
       "      <td>NaN</td>\n",
       "      <td>S</td>\n",
       "    </tr>\n",
       "    <tr>\n",
       "      <th>611</th>\n",
       "      <td>612</td>\n",
       "      <td>0</td>\n",
       "      <td>3</td>\n",
       "      <td>Jardin, Mr. Jose Neto</td>\n",
       "      <td>male</td>\n",
       "      <td>NaN</td>\n",
       "      <td>0</td>\n",
       "      <td>0</td>\n",
       "      <td>SOTON/O.Q. 3101305</td>\n",
       "      <td>7.05</td>\n",
       "      <td>NaN</td>\n",
       "      <td>S</td>\n",
       "    </tr>\n",
       "  </tbody>\n",
       "</table>\n",
       "</div>"
      ],
      "text/plain": [
       "     PassengerId  Survived  Pclass                   Name     Sex   Age  \\\n",
       "735          736         0       3   Williams, Mr. Leslie    male  28.5   \n",
       "109          110         1       3    Moran, Miss. Bertha  female   NaN   \n",
       "637          638         0       2    Collyer, Mr. Harvey    male  31.0   \n",
       "363          364         0       3        Asim, Mr. Adola    male  35.0   \n",
       "611          612         0       3  Jardin, Mr. Jose Neto    male   NaN   \n",
       "\n",
       "     SibSp  Parch              Ticket   Fare Cabin Embarked  \n",
       "735      0      0               54636  16.10   NaN        S  \n",
       "109      1      0              371110  24.15   NaN        Q  \n",
       "637      1      1          C.A. 31921  26.25   NaN        S  \n",
       "363      0      0  SOTON/O.Q. 3101310   7.05   NaN        S  \n",
       "611      0      0  SOTON/O.Q. 3101305   7.05   NaN        S  "
      ]
     },
     "execution_count": 5,
     "metadata": {},
     "output_type": "execute_result"
    }
   ],
   "source": [
    "df.sample(5)"
   ]
  },
  {
   "cell_type": "markdown",
   "id": "9558b99e",
   "metadata": {},
   "source": [
    "# Imputando valores"
   ]
  },
  {
   "cell_type": "markdown",
   "id": "b102cc13",
   "metadata": {},
   "source": [
    "## Columna `Age`\n",
    "Segun las `Acciones a realizar` **-índice-** en la fase exploratoria (EDA)\n",
    "[Ir a análisis exploratorio](./01_exploration.ipynb)"
   ]
  },
  {
   "cell_type": "markdown",
   "id": "ad94dba8",
   "metadata": {},
   "source": [
    "promedio de edad por sexo"
   ]
  },
  {
   "cell_type": "code",
   "execution_count": 6,
   "id": "9d1731b1",
   "metadata": {},
   "outputs": [
    {
     "data": {
      "application/vnd.microsoft.datawrangler.viewer.v0+json": {
       "columns": [
        {
         "name": "index",
         "rawType": "object",
         "type": "string"
        },
        {
         "name": "0",
         "rawType": "int64",
         "type": "integer"
        }
       ],
       "ref": "79263f83-d42a-468c-9dee-b1280c980f22",
       "rows": [
        [
         "Sex",
         "177"
        ]
       ],
       "shape": {
        "columns": 1,
        "rows": 1
       }
      },
      "text/plain": [
       "Sex    177\n",
       "dtype: int64"
      ]
     },
     "execution_count": 6,
     "metadata": {},
     "output_type": "execute_result"
    }
   ],
   "source": [
    "# Cantidad de valores faltantes\n",
    "df.loc[df['Age'].isnull(),['Sex']].count()"
   ]
  },
  {
   "cell_type": "code",
   "execution_count": 7,
   "id": "1350a888",
   "metadata": {},
   "outputs": [
    {
     "data": {
      "text/plain": [
       "[5,\n",
       " 17,\n",
       " 19,\n",
       " 26,\n",
       " 28,\n",
       " 29,\n",
       " 31,\n",
       " 32,\n",
       " 36,\n",
       " 42,\n",
       " 45,\n",
       " 46,\n",
       " 47,\n",
       " 48,\n",
       " 55,\n",
       " 64,\n",
       " 65,\n",
       " 76,\n",
       " 77,\n",
       " 82,\n",
       " 87,\n",
       " 95,\n",
       " 101,\n",
       " 107,\n",
       " 109,\n",
       " 121,\n",
       " 126,\n",
       " 128,\n",
       " 140,\n",
       " 154,\n",
       " 158,\n",
       " 159,\n",
       " 166,\n",
       " 168,\n",
       " 176,\n",
       " 180,\n",
       " 181,\n",
       " 185,\n",
       " 186,\n",
       " 196,\n",
       " 198,\n",
       " 201,\n",
       " 214,\n",
       " 223,\n",
       " 229,\n",
       " 235,\n",
       " 240,\n",
       " 241,\n",
       " 250,\n",
       " 256,\n",
       " 260,\n",
       " 264,\n",
       " 270,\n",
       " 274,\n",
       " 277,\n",
       " 284,\n",
       " 295,\n",
       " 298,\n",
       " 300,\n",
       " 301,\n",
       " 303,\n",
       " 304,\n",
       " 306,\n",
       " 324,\n",
       " 330,\n",
       " 334,\n",
       " 335,\n",
       " 347,\n",
       " 351,\n",
       " 354,\n",
       " 358,\n",
       " 359,\n",
       " 364,\n",
       " 367,\n",
       " 368,\n",
       " 375,\n",
       " 384,\n",
       " 388,\n",
       " 409,\n",
       " 410,\n",
       " 411,\n",
       " 413,\n",
       " 415,\n",
       " 420,\n",
       " 425,\n",
       " 428,\n",
       " 431,\n",
       " 444,\n",
       " 451,\n",
       " 454,\n",
       " 457,\n",
       " 459,\n",
       " 464,\n",
       " 466,\n",
       " 468,\n",
       " 470,\n",
       " 475,\n",
       " 481,\n",
       " 485,\n",
       " 490,\n",
       " 495,\n",
       " 497,\n",
       " 502,\n",
       " 507,\n",
       " 511,\n",
       " 517,\n",
       " 522,\n",
       " 524,\n",
       " 527,\n",
       " 531,\n",
       " 533,\n",
       " 538,\n",
       " 547,\n",
       " 552,\n",
       " 557,\n",
       " 560,\n",
       " 563,\n",
       " 564,\n",
       " 568,\n",
       " 573,\n",
       " 578,\n",
       " 584,\n",
       " 589,\n",
       " 593,\n",
       " 596,\n",
       " 598,\n",
       " 601,\n",
       " 602,\n",
       " 611,\n",
       " 612,\n",
       " 613,\n",
       " 629,\n",
       " 633,\n",
       " 639,\n",
       " 643,\n",
       " 648,\n",
       " 650,\n",
       " 653,\n",
       " 656,\n",
       " 667,\n",
       " 669,\n",
       " 674,\n",
       " 680,\n",
       " 692,\n",
       " 697,\n",
       " 709,\n",
       " 711,\n",
       " 718,\n",
       " 727,\n",
       " 732,\n",
       " 738,\n",
       " 739,\n",
       " 740,\n",
       " 760,\n",
       " 766,\n",
       " 768,\n",
       " 773,\n",
       " 776,\n",
       " 778,\n",
       " 783,\n",
       " 790,\n",
       " 792,\n",
       " 793,\n",
       " 815,\n",
       " 825,\n",
       " 826,\n",
       " 828,\n",
       " 832,\n",
       " 837,\n",
       " 839,\n",
       " 846,\n",
       " 849,\n",
       " 859,\n",
       " 863,\n",
       " 868,\n",
       " 878,\n",
       " 888]"
      ]
     },
     "execution_count": 7,
     "metadata": {},
     "output_type": "execute_result"
    }
   ],
   "source": [
    "# Guarda en la variable los índices de todas las filas donde la columna `Age` tiene un valor nulo.\n",
    "edades_nan = list(df.loc[df['Age'].isnull(),['Age']].index)\n",
    "edades_nan"
   ]
  },
  {
   "cell_type": "code",
   "execution_count": 8,
   "id": "f6bb7786",
   "metadata": {},
   "outputs": [
    {
     "data": {
      "application/vnd.microsoft.datawrangler.viewer.v0+json": {
       "columns": [
        {
         "name": "index",
         "rawType": "int64",
         "type": "integer"
        },
        {
         "name": "Sex",
         "rawType": "object",
         "type": "string"
        },
        {
         "name": "Age",
         "rawType": "float64",
         "type": "float"
        }
       ],
       "ref": "bc93f752-6b2a-4ed9-894d-8119e53fa48c",
       "rows": [
        [
         "5",
         "male",
         null
        ],
        [
         "17",
         "male",
         null
        ],
        [
         "19",
         "female",
         null
        ],
        [
         "26",
         "male",
         null
        ],
        [
         "28",
         "female",
         null
        ],
        [
         "29",
         "male",
         null
        ],
        [
         "31",
         "female",
         null
        ],
        [
         "32",
         "female",
         null
        ],
        [
         "36",
         "male",
         null
        ],
        [
         "42",
         "male",
         null
        ],
        [
         "45",
         "male",
         null
        ],
        [
         "46",
         "male",
         null
        ],
        [
         "47",
         "female",
         null
        ],
        [
         "48",
         "male",
         null
        ],
        [
         "55",
         "male",
         null
        ],
        [
         "64",
         "male",
         null
        ],
        [
         "65",
         "male",
         null
        ],
        [
         "76",
         "male",
         null
        ],
        [
         "77",
         "male",
         null
        ],
        [
         "82",
         "female",
         null
        ],
        [
         "87",
         "male",
         null
        ],
        [
         "95",
         "male",
         null
        ],
        [
         "101",
         "male",
         null
        ],
        [
         "107",
         "male",
         null
        ],
        [
         "109",
         "female",
         null
        ],
        [
         "121",
         "male",
         null
        ],
        [
         "126",
         "male",
         null
        ],
        [
         "128",
         "female",
         null
        ],
        [
         "140",
         "female",
         null
        ],
        [
         "154",
         "male",
         null
        ],
        [
         "158",
         "male",
         null
        ],
        [
         "159",
         "male",
         null
        ],
        [
         "166",
         "female",
         null
        ],
        [
         "168",
         "male",
         null
        ],
        [
         "176",
         "male",
         null
        ],
        [
         "180",
         "female",
         null
        ],
        [
         "181",
         "male",
         null
        ],
        [
         "185",
         "male",
         null
        ],
        [
         "186",
         "female",
         null
        ],
        [
         "196",
         "male",
         null
        ],
        [
         "198",
         "female",
         null
        ],
        [
         "201",
         "male",
         null
        ],
        [
         "214",
         "male",
         null
        ],
        [
         "223",
         "male",
         null
        ],
        [
         "229",
         "female",
         null
        ],
        [
         "235",
         "female",
         null
        ],
        [
         "240",
         "female",
         null
        ],
        [
         "241",
         "female",
         null
        ],
        [
         "250",
         "male",
         null
        ],
        [
         "256",
         "female",
         null
        ]
       ],
       "shape": {
        "columns": 2,
        "rows": 177
       }
      },
      "text/html": [
       "<div>\n",
       "<style scoped>\n",
       "    .dataframe tbody tr th:only-of-type {\n",
       "        vertical-align: middle;\n",
       "    }\n",
       "\n",
       "    .dataframe tbody tr th {\n",
       "        vertical-align: top;\n",
       "    }\n",
       "\n",
       "    .dataframe thead th {\n",
       "        text-align: right;\n",
       "    }\n",
       "</style>\n",
       "<table border=\"1\" class=\"dataframe\">\n",
       "  <thead>\n",
       "    <tr style=\"text-align: right;\">\n",
       "      <th></th>\n",
       "      <th>Sex</th>\n",
       "      <th>Age</th>\n",
       "    </tr>\n",
       "  </thead>\n",
       "  <tbody>\n",
       "    <tr>\n",
       "      <th>5</th>\n",
       "      <td>male</td>\n",
       "      <td>NaN</td>\n",
       "    </tr>\n",
       "    <tr>\n",
       "      <th>17</th>\n",
       "      <td>male</td>\n",
       "      <td>NaN</td>\n",
       "    </tr>\n",
       "    <tr>\n",
       "      <th>19</th>\n",
       "      <td>female</td>\n",
       "      <td>NaN</td>\n",
       "    </tr>\n",
       "    <tr>\n",
       "      <th>26</th>\n",
       "      <td>male</td>\n",
       "      <td>NaN</td>\n",
       "    </tr>\n",
       "    <tr>\n",
       "      <th>28</th>\n",
       "      <td>female</td>\n",
       "      <td>NaN</td>\n",
       "    </tr>\n",
       "    <tr>\n",
       "      <th>...</th>\n",
       "      <td>...</td>\n",
       "      <td>...</td>\n",
       "    </tr>\n",
       "    <tr>\n",
       "      <th>859</th>\n",
       "      <td>male</td>\n",
       "      <td>NaN</td>\n",
       "    </tr>\n",
       "    <tr>\n",
       "      <th>863</th>\n",
       "      <td>female</td>\n",
       "      <td>NaN</td>\n",
       "    </tr>\n",
       "    <tr>\n",
       "      <th>868</th>\n",
       "      <td>male</td>\n",
       "      <td>NaN</td>\n",
       "    </tr>\n",
       "    <tr>\n",
       "      <th>878</th>\n",
       "      <td>male</td>\n",
       "      <td>NaN</td>\n",
       "    </tr>\n",
       "    <tr>\n",
       "      <th>888</th>\n",
       "      <td>female</td>\n",
       "      <td>NaN</td>\n",
       "    </tr>\n",
       "  </tbody>\n",
       "</table>\n",
       "<p>177 rows × 2 columns</p>\n",
       "</div>"
      ],
      "text/plain": [
       "        Sex  Age\n",
       "5      male  NaN\n",
       "17     male  NaN\n",
       "19   female  NaN\n",
       "26     male  NaN\n",
       "28   female  NaN\n",
       "..      ...  ...\n",
       "859    male  NaN\n",
       "863  female  NaN\n",
       "868    male  NaN\n",
       "878    male  NaN\n",
       "888  female  NaN\n",
       "\n",
       "[177 rows x 2 columns]"
      ]
     },
     "execution_count": 8,
     "metadata": {},
     "output_type": "execute_result"
    }
   ],
   "source": [
    "#  Permite ver el sexo y la edad (que será NaN) de los pasajeros que tienen valores faltantes en la columna Age.\n",
    "df.loc[edades_nan,['Sex', 'Age']]"
   ]
  },
  {
   "cell_type": "code",
   "execution_count": 9,
   "id": "4ad85520",
   "metadata": {},
   "outputs": [],
   "source": [
    "# Se realiza un copia del df original\n",
    "# Esto permiteconservar el DataFrame original para futuras comparaciones o restauraciones.\n",
    "df_copy = df.copy()"
   ]
  },
  {
   "cell_type": "code",
   "execution_count": 10,
   "id": "3272ce53",
   "metadata": {},
   "outputs": [
    {
     "data": {
      "application/vnd.microsoft.datawrangler.viewer.v0+json": {
       "columns": [
        {
         "name": "index",
         "rawType": "int64",
         "type": "integer"
        },
        {
         "name": "PassengerId",
         "rawType": "int64",
         "type": "integer"
        },
        {
         "name": "Survived",
         "rawType": "int64",
         "type": "integer"
        },
        {
         "name": "Pclass",
         "rawType": "int64",
         "type": "integer"
        },
        {
         "name": "Name",
         "rawType": "object",
         "type": "string"
        },
        {
         "name": "Sex",
         "rawType": "object",
         "type": "string"
        },
        {
         "name": "Age",
         "rawType": "float64",
         "type": "float"
        },
        {
         "name": "SibSp",
         "rawType": "int64",
         "type": "integer"
        },
        {
         "name": "Parch",
         "rawType": "int64",
         "type": "integer"
        },
        {
         "name": "Ticket",
         "rawType": "object",
         "type": "string"
        },
        {
         "name": "Fare",
         "rawType": "float64",
         "type": "float"
        },
        {
         "name": "Cabin",
         "rawType": "object",
         "type": "unknown"
        },
        {
         "name": "Embarked",
         "rawType": "object",
         "type": "string"
        }
       ],
       "ref": "8c677aee-ed5a-4346-9cc5-8871874c9dc5",
       "rows": [
        [
         "5",
         "6",
         "0",
         "3",
         "Moran, Mr. James",
         "male",
         null,
         "0",
         "0",
         "330877",
         "8.4583",
         null,
         "Q"
        ],
        [
         "17",
         "18",
         "1",
         "2",
         "Williams, Mr. Charles Eugene",
         "male",
         null,
         "0",
         "0",
         "244373",
         "13.0",
         null,
         "S"
        ],
        [
         "26",
         "27",
         "0",
         "3",
         "Emir, Mr. Farred Chehab",
         "male",
         null,
         "0",
         "0",
         "2631",
         "7.225",
         null,
         "C"
        ],
        [
         "29",
         "30",
         "0",
         "3",
         "Todoroff, Mr. Lalio",
         "male",
         null,
         "0",
         "0",
         "349216",
         "7.8958",
         null,
         "S"
        ],
        [
         "36",
         "37",
         "1",
         "3",
         "Mamee, Mr. Hanna",
         "male",
         null,
         "0",
         "0",
         "2677",
         "7.2292",
         null,
         "C"
        ],
        [
         "42",
         "43",
         "0",
         "3",
         "Kraeff, Mr. Theodor",
         "male",
         null,
         "0",
         "0",
         "349253",
         "7.8958",
         null,
         "C"
        ],
        [
         "45",
         "46",
         "0",
         "3",
         "Rogers, Mr. William John",
         "male",
         null,
         "0",
         "0",
         "S.C./A.4. 23567",
         "8.05",
         null,
         "S"
        ],
        [
         "46",
         "47",
         "0",
         "3",
         "Lennon, Mr. Denis",
         "male",
         null,
         "1",
         "0",
         "370371",
         "15.5",
         null,
         "Q"
        ],
        [
         "48",
         "49",
         "0",
         "3",
         "Samaan, Mr. Youssef",
         "male",
         null,
         "2",
         "0",
         "2662",
         "21.6792",
         null,
         "C"
        ],
        [
         "55",
         "56",
         "1",
         "1",
         "Woolner, Mr. Hugh",
         "male",
         null,
         "0",
         "0",
         "19947",
         "35.5",
         "C52",
         "S"
        ],
        [
         "64",
         "65",
         "0",
         "1",
         "Stewart, Mr. Albert A",
         "male",
         null,
         "0",
         "0",
         "PC 17605",
         "27.7208",
         null,
         "C"
        ],
        [
         "65",
         "66",
         "1",
         "3",
         "Moubarek, Master. Gerios",
         "male",
         null,
         "1",
         "1",
         "2661",
         "15.2458",
         null,
         "C"
        ],
        [
         "76",
         "77",
         "0",
         "3",
         "Staneff, Mr. Ivan",
         "male",
         null,
         "0",
         "0",
         "349208",
         "7.8958",
         null,
         "S"
        ],
        [
         "77",
         "78",
         "0",
         "3",
         "Moutal, Mr. Rahamin Haim",
         "male",
         null,
         "0",
         "0",
         "374746",
         "8.05",
         null,
         "S"
        ],
        [
         "87",
         "88",
         "0",
         "3",
         "Slocovski, Mr. Selman Francis",
         "male",
         null,
         "0",
         "0",
         "SOTON/OQ 392086",
         "8.05",
         null,
         "S"
        ],
        [
         "95",
         "96",
         "0",
         "3",
         "Shorney, Mr. Charles Joseph",
         "male",
         null,
         "0",
         "0",
         "374910",
         "8.05",
         null,
         "S"
        ],
        [
         "101",
         "102",
         "0",
         "3",
         "Petroff, Mr. Pastcho (\"Pentcho\")",
         "male",
         null,
         "0",
         "0",
         "349215",
         "7.8958",
         null,
         "S"
        ],
        [
         "107",
         "108",
         "1",
         "3",
         "Moss, Mr. Albert Johan",
         "male",
         null,
         "0",
         "0",
         "312991",
         "7.775",
         null,
         "S"
        ],
        [
         "121",
         "122",
         "0",
         "3",
         "Moore, Mr. Leonard Charles",
         "male",
         null,
         "0",
         "0",
         "A4. 54510",
         "8.05",
         null,
         "S"
        ],
        [
         "126",
         "127",
         "0",
         "3",
         "McMahon, Mr. Martin",
         "male",
         null,
         "0",
         "0",
         "370372",
         "7.75",
         null,
         "Q"
        ],
        [
         "154",
         "155",
         "0",
         "3",
         "Olsen, Mr. Ole Martin",
         "male",
         null,
         "0",
         "0",
         "Fa 265302",
         "7.3125",
         null,
         "S"
        ],
        [
         "158",
         "159",
         "0",
         "3",
         "Smiljanic, Mr. Mile",
         "male",
         null,
         "0",
         "0",
         "315037",
         "8.6625",
         null,
         "S"
        ],
        [
         "159",
         "160",
         "0",
         "3",
         "Sage, Master. Thomas Henry",
         "male",
         null,
         "8",
         "2",
         "CA. 2343",
         "69.55",
         null,
         "S"
        ],
        [
         "168",
         "169",
         "0",
         "1",
         "Baumann, Mr. John D",
         "male",
         null,
         "0",
         "0",
         "PC 17318",
         "25.925",
         null,
         "S"
        ],
        [
         "176",
         "177",
         "0",
         "3",
         "Lefebre, Master. Henry Forbes",
         "male",
         null,
         "3",
         "1",
         "4133",
         "25.4667",
         null,
         "S"
        ],
        [
         "181",
         "182",
         "0",
         "2",
         "Pernot, Mr. Rene",
         "male",
         null,
         "0",
         "0",
         "SC/PARIS 2131",
         "15.05",
         null,
         "C"
        ],
        [
         "185",
         "186",
         "0",
         "1",
         "Rood, Mr. Hugh Roscoe",
         "male",
         null,
         "0",
         "0",
         "113767",
         "50.0",
         "A32",
         "S"
        ],
        [
         "196",
         "197",
         "0",
         "3",
         "Mernagh, Mr. Robert",
         "male",
         null,
         "0",
         "0",
         "368703",
         "7.75",
         null,
         "Q"
        ],
        [
         "201",
         "202",
         "0",
         "3",
         "Sage, Mr. Frederick",
         "male",
         null,
         "8",
         "2",
         "CA. 2343",
         "69.55",
         null,
         "S"
        ],
        [
         "214",
         "215",
         "0",
         "3",
         "Kiernan, Mr. Philip",
         "male",
         null,
         "1",
         "0",
         "367229",
         "7.75",
         null,
         "Q"
        ],
        [
         "223",
         "224",
         "0",
         "3",
         "Nenkoff, Mr. Christo",
         "male",
         null,
         "0",
         "0",
         "349234",
         "7.8958",
         null,
         "S"
        ],
        [
         "250",
         "251",
         "0",
         "3",
         "Reed, Mr. James George",
         "male",
         null,
         "0",
         "0",
         "362316",
         "7.25",
         null,
         "S"
        ],
        [
         "260",
         "261",
         "0",
         "3",
         "Smith, Mr. Thomas",
         "male",
         null,
         "0",
         "0",
         "384461",
         "7.75",
         null,
         "Q"
        ],
        [
         "270",
         "271",
         "0",
         "1",
         "Cairns, Mr. Alexander",
         "male",
         null,
         "0",
         "0",
         "113798",
         "31.0",
         null,
         "S"
        ],
        [
         "277",
         "278",
         "0",
         "2",
         "Parkes, Mr. Francis \"Frank\"",
         "male",
         null,
         "0",
         "0",
         "239853",
         "0.0",
         null,
         "S"
        ],
        [
         "284",
         "285",
         "0",
         "1",
         "Smith, Mr. Richard William",
         "male",
         null,
         "0",
         "0",
         "113056",
         "26.0",
         "A19",
         "S"
        ],
        [
         "295",
         "296",
         "0",
         "1",
         "Lewy, Mr. Ervin G",
         "male",
         null,
         "0",
         "0",
         "PC 17612",
         "27.7208",
         null,
         "C"
        ],
        [
         "298",
         "299",
         "1",
         "1",
         "Saalfeld, Mr. Adolphe",
         "male",
         null,
         "0",
         "0",
         "19988",
         "30.5",
         "C106",
         "S"
        ],
        [
         "301",
         "302",
         "1",
         "3",
         "McCoy, Mr. Bernard",
         "male",
         null,
         "2",
         "0",
         "367226",
         "23.25",
         null,
         "Q"
        ],
        [
         "304",
         "305",
         "0",
         "3",
         "Williams, Mr. Howard Hugh \"Harry\"",
         "male",
         null,
         "0",
         "0",
         "A/5 2466",
         "8.05",
         null,
         "S"
        ],
        [
         "324",
         "325",
         "0",
         "3",
         "Sage, Mr. George John Jr",
         "male",
         null,
         "8",
         "2",
         "CA. 2343",
         "69.55",
         null,
         "S"
        ],
        [
         "335",
         "336",
         "0",
         "3",
         "Denkoff, Mr. Mitto",
         "male",
         null,
         "0",
         "0",
         "349225",
         "7.8958",
         null,
         "S"
        ],
        [
         "351",
         "352",
         "0",
         "1",
         "Williams-Lambert, Mr. Fletcher Fellows",
         "male",
         null,
         "0",
         "0",
         "113510",
         "35.0",
         "C128",
         "S"
        ],
        [
         "354",
         "355",
         "0",
         "3",
         "Yousif, Mr. Wazli",
         "male",
         null,
         "0",
         "0",
         "2647",
         "7.225",
         null,
         "C"
        ],
        [
         "364",
         "365",
         "0",
         "3",
         "O'Brien, Mr. Thomas",
         "male",
         null,
         "1",
         "0",
         "370365",
         "15.5",
         null,
         "Q"
        ],
        [
         "384",
         "385",
         "0",
         "3",
         "Plotcharsky, Mr. Vasil",
         "male",
         null,
         "0",
         "0",
         "349227",
         "7.8958",
         null,
         "S"
        ],
        [
         "388",
         "389",
         "0",
         "3",
         "Sadlier, Mr. Matthew",
         "male",
         null,
         "0",
         "0",
         "367655",
         "7.7292",
         null,
         "Q"
        ],
        [
         "410",
         "411",
         "0",
         "3",
         "Sdycoff, Mr. Todor",
         "male",
         null,
         "0",
         "0",
         "349222",
         "7.8958",
         null,
         "S"
        ],
        [
         "411",
         "412",
         "0",
         "3",
         "Hart, Mr. Henry",
         "male",
         null,
         "0",
         "0",
         "394140",
         "6.8583",
         null,
         "Q"
        ],
        [
         "413",
         "414",
         "0",
         "2",
         "Cunningham, Mr. Alfred Fleming",
         "male",
         null,
         "0",
         "0",
         "239853",
         "0.0",
         null,
         "S"
        ]
       ],
       "shape": {
        "columns": 12,
        "rows": 124
       }
      },
      "text/html": [
       "<div>\n",
       "<style scoped>\n",
       "    .dataframe tbody tr th:only-of-type {\n",
       "        vertical-align: middle;\n",
       "    }\n",
       "\n",
       "    .dataframe tbody tr th {\n",
       "        vertical-align: top;\n",
       "    }\n",
       "\n",
       "    .dataframe thead th {\n",
       "        text-align: right;\n",
       "    }\n",
       "</style>\n",
       "<table border=\"1\" class=\"dataframe\">\n",
       "  <thead>\n",
       "    <tr style=\"text-align: right;\">\n",
       "      <th></th>\n",
       "      <th>PassengerId</th>\n",
       "      <th>Survived</th>\n",
       "      <th>Pclass</th>\n",
       "      <th>Name</th>\n",
       "      <th>Sex</th>\n",
       "      <th>Age</th>\n",
       "      <th>SibSp</th>\n",
       "      <th>Parch</th>\n",
       "      <th>Ticket</th>\n",
       "      <th>Fare</th>\n",
       "      <th>Cabin</th>\n",
       "      <th>Embarked</th>\n",
       "    </tr>\n",
       "  </thead>\n",
       "  <tbody>\n",
       "    <tr>\n",
       "      <th>5</th>\n",
       "      <td>6</td>\n",
       "      <td>0</td>\n",
       "      <td>3</td>\n",
       "      <td>Moran, Mr. James</td>\n",
       "      <td>male</td>\n",
       "      <td>NaN</td>\n",
       "      <td>0</td>\n",
       "      <td>0</td>\n",
       "      <td>330877</td>\n",
       "      <td>8.4583</td>\n",
       "      <td>NaN</td>\n",
       "      <td>Q</td>\n",
       "    </tr>\n",
       "    <tr>\n",
       "      <th>17</th>\n",
       "      <td>18</td>\n",
       "      <td>1</td>\n",
       "      <td>2</td>\n",
       "      <td>Williams, Mr. Charles Eugene</td>\n",
       "      <td>male</td>\n",
       "      <td>NaN</td>\n",
       "      <td>0</td>\n",
       "      <td>0</td>\n",
       "      <td>244373</td>\n",
       "      <td>13.0000</td>\n",
       "      <td>NaN</td>\n",
       "      <td>S</td>\n",
       "    </tr>\n",
       "    <tr>\n",
       "      <th>26</th>\n",
       "      <td>27</td>\n",
       "      <td>0</td>\n",
       "      <td>3</td>\n",
       "      <td>Emir, Mr. Farred Chehab</td>\n",
       "      <td>male</td>\n",
       "      <td>NaN</td>\n",
       "      <td>0</td>\n",
       "      <td>0</td>\n",
       "      <td>2631</td>\n",
       "      <td>7.2250</td>\n",
       "      <td>NaN</td>\n",
       "      <td>C</td>\n",
       "    </tr>\n",
       "    <tr>\n",
       "      <th>29</th>\n",
       "      <td>30</td>\n",
       "      <td>0</td>\n",
       "      <td>3</td>\n",
       "      <td>Todoroff, Mr. Lalio</td>\n",
       "      <td>male</td>\n",
       "      <td>NaN</td>\n",
       "      <td>0</td>\n",
       "      <td>0</td>\n",
       "      <td>349216</td>\n",
       "      <td>7.8958</td>\n",
       "      <td>NaN</td>\n",
       "      <td>S</td>\n",
       "    </tr>\n",
       "    <tr>\n",
       "      <th>36</th>\n",
       "      <td>37</td>\n",
       "      <td>1</td>\n",
       "      <td>3</td>\n",
       "      <td>Mamee, Mr. Hanna</td>\n",
       "      <td>male</td>\n",
       "      <td>NaN</td>\n",
       "      <td>0</td>\n",
       "      <td>0</td>\n",
       "      <td>2677</td>\n",
       "      <td>7.2292</td>\n",
       "      <td>NaN</td>\n",
       "      <td>C</td>\n",
       "    </tr>\n",
       "    <tr>\n",
       "      <th>...</th>\n",
       "      <td>...</td>\n",
       "      <td>...</td>\n",
       "      <td>...</td>\n",
       "      <td>...</td>\n",
       "      <td>...</td>\n",
       "      <td>...</td>\n",
       "      <td>...</td>\n",
       "      <td>...</td>\n",
       "      <td>...</td>\n",
       "      <td>...</td>\n",
       "      <td>...</td>\n",
       "      <td>...</td>\n",
       "    </tr>\n",
       "    <tr>\n",
       "      <th>839</th>\n",
       "      <td>840</td>\n",
       "      <td>1</td>\n",
       "      <td>1</td>\n",
       "      <td>Marechal, Mr. Pierre</td>\n",
       "      <td>male</td>\n",
       "      <td>NaN</td>\n",
       "      <td>0</td>\n",
       "      <td>0</td>\n",
       "      <td>11774</td>\n",
       "      <td>29.7000</td>\n",
       "      <td>C47</td>\n",
       "      <td>C</td>\n",
       "    </tr>\n",
       "    <tr>\n",
       "      <th>846</th>\n",
       "      <td>847</td>\n",
       "      <td>0</td>\n",
       "      <td>3</td>\n",
       "      <td>Sage, Mr. Douglas Bullen</td>\n",
       "      <td>male</td>\n",
       "      <td>NaN</td>\n",
       "      <td>8</td>\n",
       "      <td>2</td>\n",
       "      <td>CA. 2343</td>\n",
       "      <td>69.5500</td>\n",
       "      <td>NaN</td>\n",
       "      <td>S</td>\n",
       "    </tr>\n",
       "    <tr>\n",
       "      <th>859</th>\n",
       "      <td>860</td>\n",
       "      <td>0</td>\n",
       "      <td>3</td>\n",
       "      <td>Razi, Mr. Raihed</td>\n",
       "      <td>male</td>\n",
       "      <td>NaN</td>\n",
       "      <td>0</td>\n",
       "      <td>0</td>\n",
       "      <td>2629</td>\n",
       "      <td>7.2292</td>\n",
       "      <td>NaN</td>\n",
       "      <td>C</td>\n",
       "    </tr>\n",
       "    <tr>\n",
       "      <th>868</th>\n",
       "      <td>869</td>\n",
       "      <td>0</td>\n",
       "      <td>3</td>\n",
       "      <td>van Melkebeke, Mr. Philemon</td>\n",
       "      <td>male</td>\n",
       "      <td>NaN</td>\n",
       "      <td>0</td>\n",
       "      <td>0</td>\n",
       "      <td>345777</td>\n",
       "      <td>9.5000</td>\n",
       "      <td>NaN</td>\n",
       "      <td>S</td>\n",
       "    </tr>\n",
       "    <tr>\n",
       "      <th>878</th>\n",
       "      <td>879</td>\n",
       "      <td>0</td>\n",
       "      <td>3</td>\n",
       "      <td>Laleff, Mr. Kristo</td>\n",
       "      <td>male</td>\n",
       "      <td>NaN</td>\n",
       "      <td>0</td>\n",
       "      <td>0</td>\n",
       "      <td>349217</td>\n",
       "      <td>7.8958</td>\n",
       "      <td>NaN</td>\n",
       "      <td>S</td>\n",
       "    </tr>\n",
       "  </tbody>\n",
       "</table>\n",
       "<p>124 rows × 12 columns</p>\n",
       "</div>"
      ],
      "text/plain": [
       "     PassengerId  Survived  Pclass                          Name   Sex  Age  \\\n",
       "5              6         0       3              Moran, Mr. James  male  NaN   \n",
       "17            18         1       2  Williams, Mr. Charles Eugene  male  NaN   \n",
       "26            27         0       3       Emir, Mr. Farred Chehab  male  NaN   \n",
       "29            30         0       3           Todoroff, Mr. Lalio  male  NaN   \n",
       "36            37         1       3              Mamee, Mr. Hanna  male  NaN   \n",
       "..           ...       ...     ...                           ...   ...  ...   \n",
       "839          840         1       1          Marechal, Mr. Pierre  male  NaN   \n",
       "846          847         0       3      Sage, Mr. Douglas Bullen  male  NaN   \n",
       "859          860         0       3              Razi, Mr. Raihed  male  NaN   \n",
       "868          869         0       3   van Melkebeke, Mr. Philemon  male  NaN   \n",
       "878          879         0       3            Laleff, Mr. Kristo  male  NaN   \n",
       "\n",
       "     SibSp  Parch    Ticket     Fare Cabin Embarked  \n",
       "5        0      0    330877   8.4583   NaN        Q  \n",
       "17       0      0    244373  13.0000   NaN        S  \n",
       "26       0      0      2631   7.2250   NaN        C  \n",
       "29       0      0    349216   7.8958   NaN        S  \n",
       "36       0      0      2677   7.2292   NaN        C  \n",
       "..     ...    ...       ...      ...   ...      ...  \n",
       "839      0      0     11774  29.7000   C47        C  \n",
       "846      8      2  CA. 2343  69.5500   NaN        S  \n",
       "859      0      0      2629   7.2292   NaN        C  \n",
       "868      0      0    345777   9.5000   NaN        S  \n",
       "878      0      0    349217   7.8958   NaN        S  \n",
       "\n",
       "[124 rows x 12 columns]"
      ]
     },
     "execution_count": 10,
     "metadata": {},
     "output_type": "execute_result"
    }
   ],
   "source": [
    "# Muestra todas las filas del DataFrame `df_copy` donde la columna Age es NaN (faltante) y la columna Sex es 'male'.\n",
    "df_copy[(df['Age'].isnull()) & (df['Sex'] == 'male')]"
   ]
  },
  {
   "cell_type": "markdown",
   "id": "f57de161",
   "metadata": {},
   "source": [
    "### Asignando valores"
   ]
  },
  {
   "cell_type": "markdown",
   "id": "3d74029c",
   "metadata": {},
   "source": [
    "Asigna el valor 30.7 a la columna `Age` en todas las filas de `df_copy` donde Age es NaN (faltante) y Sex es '**male**'."
   ]
  },
  {
   "cell_type": "code",
   "execution_count": 11,
   "id": "9b199ce3",
   "metadata": {},
   "outputs": [],
   "source": [
    "df_copy.loc[(df_copy['Age'].isnull()) & (df_copy['Sex'] == 'male'),'Age'] = 30.7"
   ]
  },
  {
   "cell_type": "markdown",
   "id": "0ef60d13",
   "metadata": {},
   "source": [
    "Asigna el valor 27.9 a la columna `Age` en todas las filas de `df_copy` donde Age es NaN (faltante) y Sex es '**female**'."
   ]
  },
  {
   "cell_type": "code",
   "execution_count": 12,
   "id": "cce73168",
   "metadata": {},
   "outputs": [],
   "source": [
    "df_copy.loc[(df_copy['Age'].isnull()) & (df_copy['Sex'] == 'female'),'Age'] = 27.9"
   ]
  },
  {
   "cell_type": "code",
   "execution_count": 13,
   "id": "09263f1f",
   "metadata": {},
   "outputs": [
    {
     "data": {
      "application/vnd.microsoft.datawrangler.viewer.v0+json": {
       "columns": [
        {
         "name": "index",
         "rawType": "int64",
         "type": "integer"
        },
        {
         "name": "Sex",
         "rawType": "object",
         "type": "string"
        },
        {
         "name": "Age",
         "rawType": "float64",
         "type": "float"
        }
       ],
       "ref": "b398382c-9279-40f8-9aed-38fb8e47839b",
       "rows": [
        [
         "5",
         "male",
         "30.7"
        ],
        [
         "17",
         "male",
         "30.7"
        ],
        [
         "19",
         "female",
         "27.9"
        ],
        [
         "26",
         "male",
         "30.7"
        ],
        [
         "28",
         "female",
         "27.9"
        ],
        [
         "29",
         "male",
         "30.7"
        ],
        [
         "31",
         "female",
         "27.9"
        ],
        [
         "32",
         "female",
         "27.9"
        ],
        [
         "36",
         "male",
         "30.7"
        ],
        [
         "42",
         "male",
         "30.7"
        ],
        [
         "45",
         "male",
         "30.7"
        ],
        [
         "46",
         "male",
         "30.7"
        ],
        [
         "47",
         "female",
         "27.9"
        ],
        [
         "48",
         "male",
         "30.7"
        ],
        [
         "55",
         "male",
         "30.7"
        ],
        [
         "64",
         "male",
         "30.7"
        ],
        [
         "65",
         "male",
         "30.7"
        ],
        [
         "76",
         "male",
         "30.7"
        ],
        [
         "77",
         "male",
         "30.7"
        ],
        [
         "82",
         "female",
         "27.9"
        ],
        [
         "87",
         "male",
         "30.7"
        ],
        [
         "95",
         "male",
         "30.7"
        ],
        [
         "101",
         "male",
         "30.7"
        ],
        [
         "107",
         "male",
         "30.7"
        ],
        [
         "109",
         "female",
         "27.9"
        ],
        [
         "121",
         "male",
         "30.7"
        ],
        [
         "126",
         "male",
         "30.7"
        ],
        [
         "128",
         "female",
         "27.9"
        ],
        [
         "140",
         "female",
         "27.9"
        ],
        [
         "154",
         "male",
         "30.7"
        ],
        [
         "158",
         "male",
         "30.7"
        ],
        [
         "159",
         "male",
         "30.7"
        ],
        [
         "166",
         "female",
         "27.9"
        ],
        [
         "168",
         "male",
         "30.7"
        ],
        [
         "176",
         "male",
         "30.7"
        ],
        [
         "180",
         "female",
         "27.9"
        ],
        [
         "181",
         "male",
         "30.7"
        ],
        [
         "185",
         "male",
         "30.7"
        ],
        [
         "186",
         "female",
         "27.9"
        ],
        [
         "196",
         "male",
         "30.7"
        ],
        [
         "198",
         "female",
         "27.9"
        ],
        [
         "201",
         "male",
         "30.7"
        ],
        [
         "214",
         "male",
         "30.7"
        ],
        [
         "223",
         "male",
         "30.7"
        ],
        [
         "229",
         "female",
         "27.9"
        ],
        [
         "235",
         "female",
         "27.9"
        ],
        [
         "240",
         "female",
         "27.9"
        ],
        [
         "241",
         "female",
         "27.9"
        ],
        [
         "250",
         "male",
         "30.7"
        ],
        [
         "256",
         "female",
         "27.9"
        ]
       ],
       "shape": {
        "columns": 2,
        "rows": 177
       }
      },
      "text/html": [
       "<div>\n",
       "<style scoped>\n",
       "    .dataframe tbody tr th:only-of-type {\n",
       "        vertical-align: middle;\n",
       "    }\n",
       "\n",
       "    .dataframe tbody tr th {\n",
       "        vertical-align: top;\n",
       "    }\n",
       "\n",
       "    .dataframe thead th {\n",
       "        text-align: right;\n",
       "    }\n",
       "</style>\n",
       "<table border=\"1\" class=\"dataframe\">\n",
       "  <thead>\n",
       "    <tr style=\"text-align: right;\">\n",
       "      <th></th>\n",
       "      <th>Sex</th>\n",
       "      <th>Age</th>\n",
       "    </tr>\n",
       "  </thead>\n",
       "  <tbody>\n",
       "    <tr>\n",
       "      <th>5</th>\n",
       "      <td>male</td>\n",
       "      <td>30.7</td>\n",
       "    </tr>\n",
       "    <tr>\n",
       "      <th>17</th>\n",
       "      <td>male</td>\n",
       "      <td>30.7</td>\n",
       "    </tr>\n",
       "    <tr>\n",
       "      <th>19</th>\n",
       "      <td>female</td>\n",
       "      <td>27.9</td>\n",
       "    </tr>\n",
       "    <tr>\n",
       "      <th>26</th>\n",
       "      <td>male</td>\n",
       "      <td>30.7</td>\n",
       "    </tr>\n",
       "    <tr>\n",
       "      <th>28</th>\n",
       "      <td>female</td>\n",
       "      <td>27.9</td>\n",
       "    </tr>\n",
       "    <tr>\n",
       "      <th>...</th>\n",
       "      <td>...</td>\n",
       "      <td>...</td>\n",
       "    </tr>\n",
       "    <tr>\n",
       "      <th>859</th>\n",
       "      <td>male</td>\n",
       "      <td>30.7</td>\n",
       "    </tr>\n",
       "    <tr>\n",
       "      <th>863</th>\n",
       "      <td>female</td>\n",
       "      <td>27.9</td>\n",
       "    </tr>\n",
       "    <tr>\n",
       "      <th>868</th>\n",
       "      <td>male</td>\n",
       "      <td>30.7</td>\n",
       "    </tr>\n",
       "    <tr>\n",
       "      <th>878</th>\n",
       "      <td>male</td>\n",
       "      <td>30.7</td>\n",
       "    </tr>\n",
       "    <tr>\n",
       "      <th>888</th>\n",
       "      <td>female</td>\n",
       "      <td>27.9</td>\n",
       "    </tr>\n",
       "  </tbody>\n",
       "</table>\n",
       "<p>177 rows × 2 columns</p>\n",
       "</div>"
      ],
      "text/plain": [
       "        Sex   Age\n",
       "5      male  30.7\n",
       "17     male  30.7\n",
       "19   female  27.9\n",
       "26     male  30.7\n",
       "28   female  27.9\n",
       "..      ...   ...\n",
       "859    male  30.7\n",
       "863  female  27.9\n",
       "868    male  30.7\n",
       "878    male  30.7\n",
       "888  female  27.9\n",
       "\n",
       "[177 rows x 2 columns]"
      ]
     },
     "execution_count": 13,
     "metadata": {},
     "output_type": "execute_result"
    }
   ],
   "source": [
    "# Verificacion\n",
    "df_copy.loc[edades_nan,['Sex', 'Age']]"
   ]
  },
  {
   "cell_type": "code",
   "execution_count": 14,
   "id": "56cfce21",
   "metadata": {},
   "outputs": [
    {
     "name": "stdout",
     "output_type": "stream",
     "text": [
      "<class 'pandas.core.frame.DataFrame'>\n",
      "RangeIndex: 891 entries, 0 to 890\n",
      "Data columns (total 12 columns):\n",
      " #   Column       Non-Null Count  Dtype  \n",
      "---  ------       --------------  -----  \n",
      " 0   PassengerId  891 non-null    int64  \n",
      " 1   Survived     891 non-null    int64  \n",
      " 2   Pclass       891 non-null    int64  \n",
      " 3   Name         891 non-null    object \n",
      " 4   Sex          891 non-null    object \n",
      " 5   Age          891 non-null    float64\n",
      " 6   SibSp        891 non-null    int64  \n",
      " 7   Parch        891 non-null    int64  \n",
      " 8   Ticket       891 non-null    object \n",
      " 9   Fare         891 non-null    float64\n",
      " 10  Cabin        204 non-null    object \n",
      " 11  Embarked     889 non-null    object \n",
      "dtypes: float64(2), int64(5), object(5)\n",
      "memory usage: 83.7+ KB\n"
     ]
    }
   ],
   "source": [
    "# Verificacion de cantidad de NaN en `df_copy`\n",
    "df_copy.info()"
   ]
  },
  {
   "cell_type": "markdown",
   "id": "a1980756",
   "metadata": {},
   "source": [
    "## Columna `Cabin`"
   ]
  },
  {
   "cell_type": "markdown",
   "id": "06bd50a5",
   "metadata": {},
   "source": [
    "### **Convertimos la columna `Cabin` en una variable binaria:**\n",
    "\n",
    "- **0** si el valor era faltante (no tenía cabina asignada)  \n",
    "- **1** si tenía un valor (sí tenía cabina asignada)\n",
    "\n",
    "Segun las `Acciones a realizar` **-índice-** en la fase exploratoria (EDA)\n",
    "[Ir a análisis exploratorio](./01_exploration.ipynb)"
   ]
  },
  {
   "cell_type": "markdown",
   "id": "333c76b3",
   "metadata": {},
   "source": [
    "**Generamos indice para los datos `NaN`**"
   ]
  },
  {
   "cell_type": "code",
   "execution_count": null,
   "id": "a53aea96",
   "metadata": {},
   "outputs": [],
   "source": [
    "# Guarda en la variable los índices de todas las filas donde la columna `Cabin` tiene valores faltantes.\n",
    "indice_cabin_nan = list(df_copy.loc[df_copy['Cabin'].isnull(),['Cabin']].index)\n",
    "indice_cabin_nan"
   ]
  },
  {
   "cell_type": "markdown",
   "id": "b98ff390",
   "metadata": {},
   "source": [
    "**Generamos indice para los datos `noNaN`**"
   ]
  },
  {
   "cell_type": "code",
   "execution_count": null,
   "id": "110ec995",
   "metadata": {},
   "outputs": [],
   "source": [
    "# Guarda en la variable los índices de todas las filas donde la columna `Cabin` tiene valores no NaN.\n",
    "indice_cabin_nonan = list(df_copy.loc[df_copy['Cabin'].notnull(),['Cabin']].index)\n",
    "indice_cabin_nonan"
   ]
  },
  {
   "cell_type": "markdown",
   "id": "6133964d",
   "metadata": {},
   "source": [
    "**Convertimos la columna `Cabin` en una variable binaria:**\n",
    "\n",
    "- **0** si el valor era faltante (no tenía cabina asignada)  \n",
    "- **1** si tenía un valor (sí tenía cabina asignada)"
   ]
  },
  {
   "cell_type": "markdown",
   "id": "00552ab8",
   "metadata": {},
   "source": [
    "Asigna el valor **0** a la columna `Cabin` en todas las filas de `df_copy` cuyos índices están en la lista `indice_cabin_nan`, es decir, donde el valor de `Cabin` **es NaN** (faltante)."
   ]
  },
  {
   "cell_type": "code",
   "execution_count": 18,
   "id": "b491c85c",
   "metadata": {},
   "outputs": [],
   "source": [
    "df_copy.loc[indice_cabin_nan,['Cabin']] = 0"
   ]
  },
  {
   "cell_type": "markdown",
   "id": "47698ce2",
   "metadata": {},
   "source": [
    "Asigna el valor **1** a la columna `Cabin` en todas las filas de `df_copy` cuyos índices están en la lista `indice_cabin_nonan`, es decir, donde el valor de `Cabin` **no es NaN** (no faltante).  "
   ]
  },
  {
   "cell_type": "code",
   "execution_count": 21,
   "id": "dd84d41a",
   "metadata": {},
   "outputs": [],
   "source": [
    "df_copy.loc[indice_cabin_nonan,['Cabin']] = 1"
   ]
  },
  {
   "cell_type": "markdown",
   "id": "f9c924c7",
   "metadata": {},
   "source": [
    "### **Comprobacion de proporciones correctas**"
   ]
  },
  {
   "cell_type": "code",
   "execution_count": null,
   "id": "4cf7a6bb",
   "metadata": {},
   "outputs": [
    {
     "data": {
      "application/vnd.microsoft.datawrangler.viewer.v0+json": {
       "columns": [
        {
         "name": "index",
         "rawType": "int64",
         "type": "integer"
        },
        {
         "name": "Survived",
         "rawType": "int64",
         "type": "integer"
        },
        {
         "name": "Cabin",
         "rawType": "object",
         "type": "unknown"
        }
       ],
       "ref": "fd650c98-7ad9-4d7f-a1da-a60bcd244519",
       "rows": [
        [
         "0",
         "0",
         "0"
        ],
        [
         "2",
         "1",
         "0"
        ],
        [
         "4",
         "0",
         "0"
        ],
        [
         "5",
         "0",
         "0"
        ],
        [
         "7",
         "0",
         "0"
        ],
        [
         "8",
         "1",
         "0"
        ],
        [
         "9",
         "1",
         "0"
        ],
        [
         "12",
         "0",
         "0"
        ],
        [
         "13",
         "0",
         "0"
        ],
        [
         "14",
         "0",
         "0"
        ],
        [
         "15",
         "1",
         "0"
        ],
        [
         "16",
         "0",
         "0"
        ],
        [
         "17",
         "1",
         "0"
        ],
        [
         "18",
         "0",
         "0"
        ],
        [
         "19",
         "1",
         "0"
        ],
        [
         "20",
         "0",
         "0"
        ],
        [
         "22",
         "1",
         "0"
        ],
        [
         "24",
         "0",
         "0"
        ],
        [
         "25",
         "1",
         "0"
        ],
        [
         "26",
         "0",
         "0"
        ],
        [
         "28",
         "1",
         "0"
        ],
        [
         "29",
         "0",
         "0"
        ],
        [
         "30",
         "0",
         "0"
        ],
        [
         "32",
         "1",
         "0"
        ],
        [
         "33",
         "0",
         "0"
        ],
        [
         "34",
         "0",
         "0"
        ],
        [
         "35",
         "0",
         "0"
        ],
        [
         "36",
         "1",
         "0"
        ],
        [
         "37",
         "0",
         "0"
        ],
        [
         "38",
         "0",
         "0"
        ],
        [
         "39",
         "1",
         "0"
        ],
        [
         "40",
         "0",
         "0"
        ],
        [
         "41",
         "0",
         "0"
        ],
        [
         "42",
         "0",
         "0"
        ],
        [
         "43",
         "1",
         "0"
        ],
        [
         "44",
         "1",
         "0"
        ],
        [
         "45",
         "0",
         "0"
        ],
        [
         "46",
         "0",
         "0"
        ],
        [
         "47",
         "1",
         "0"
        ],
        [
         "48",
         "0",
         "0"
        ],
        [
         "49",
         "0",
         "0"
        ],
        [
         "50",
         "0",
         "0"
        ],
        [
         "51",
         "0",
         "0"
        ],
        [
         "53",
         "1",
         "0"
        ],
        [
         "56",
         "1",
         "0"
        ],
        [
         "57",
         "0",
         "0"
        ],
        [
         "58",
         "1",
         "0"
        ],
        [
         "59",
         "0",
         "0"
        ],
        [
         "60",
         "0",
         "0"
        ],
        [
         "63",
         "0",
         "0"
        ]
       ],
       "shape": {
        "columns": 2,
        "rows": 687
       }
      },
      "text/html": [
       "<div>\n",
       "<style scoped>\n",
       "    .dataframe tbody tr th:only-of-type {\n",
       "        vertical-align: middle;\n",
       "    }\n",
       "\n",
       "    .dataframe tbody tr th {\n",
       "        vertical-align: top;\n",
       "    }\n",
       "\n",
       "    .dataframe thead th {\n",
       "        text-align: right;\n",
       "    }\n",
       "</style>\n",
       "<table border=\"1\" class=\"dataframe\">\n",
       "  <thead>\n",
       "    <tr style=\"text-align: right;\">\n",
       "      <th></th>\n",
       "      <th>Survived</th>\n",
       "      <th>Cabin</th>\n",
       "    </tr>\n",
       "  </thead>\n",
       "  <tbody>\n",
       "    <tr>\n",
       "      <th>0</th>\n",
       "      <td>0</td>\n",
       "      <td>0</td>\n",
       "    </tr>\n",
       "    <tr>\n",
       "      <th>2</th>\n",
       "      <td>1</td>\n",
       "      <td>0</td>\n",
       "    </tr>\n",
       "    <tr>\n",
       "      <th>4</th>\n",
       "      <td>0</td>\n",
       "      <td>0</td>\n",
       "    </tr>\n",
       "    <tr>\n",
       "      <th>5</th>\n",
       "      <td>0</td>\n",
       "      <td>0</td>\n",
       "    </tr>\n",
       "    <tr>\n",
       "      <th>7</th>\n",
       "      <td>0</td>\n",
       "      <td>0</td>\n",
       "    </tr>\n",
       "    <tr>\n",
       "      <th>...</th>\n",
       "      <td>...</td>\n",
       "      <td>...</td>\n",
       "    </tr>\n",
       "    <tr>\n",
       "      <th>884</th>\n",
       "      <td>0</td>\n",
       "      <td>0</td>\n",
       "    </tr>\n",
       "    <tr>\n",
       "      <th>885</th>\n",
       "      <td>0</td>\n",
       "      <td>0</td>\n",
       "    </tr>\n",
       "    <tr>\n",
       "      <th>886</th>\n",
       "      <td>0</td>\n",
       "      <td>0</td>\n",
       "    </tr>\n",
       "    <tr>\n",
       "      <th>888</th>\n",
       "      <td>0</td>\n",
       "      <td>0</td>\n",
       "    </tr>\n",
       "    <tr>\n",
       "      <th>890</th>\n",
       "      <td>0</td>\n",
       "      <td>0</td>\n",
       "    </tr>\n",
       "  </tbody>\n",
       "</table>\n",
       "<p>687 rows × 2 columns</p>\n",
       "</div>"
      ],
      "text/plain": [
       "     Survived Cabin\n",
       "0           0     0\n",
       "2           1     0\n",
       "4           0     0\n",
       "5           0     0\n",
       "7           0     0\n",
       "..        ...   ...\n",
       "884         0     0\n",
       "885         0     0\n",
       "886         0     0\n",
       "888         0     0\n",
       "890         0     0\n",
       "\n",
       "[687 rows x 2 columns]"
      ]
     },
     "execution_count": 25,
     "metadata": {},
     "output_type": "execute_result"
    }
   ],
   "source": [
    "# Verificacion\n",
    "df_copy.loc[indice_cabin_nan,['Survived', 'Cabin']]"
   ]
  },
  {
   "cell_type": "code",
   "execution_count": null,
   "id": "0dafb5d1",
   "metadata": {},
   "outputs": [
    {
     "data": {
      "application/vnd.microsoft.datawrangler.viewer.v0+json": {
       "columns": [
        {
         "name": "Cabin",
         "rawType": "object",
         "type": "unknown"
        },
        {
         "name": "count",
         "rawType": "int64",
         "type": "integer"
        }
       ],
       "ref": "b299a9ac-4b60-49a2-a79f-1a58142dd73d",
       "rows": [
        [
         "0",
         "687"
        ],
        [
         "1",
         "204"
        ]
       ],
       "shape": {
        "columns": 1,
        "rows": 2
       }
      },
      "text/plain": [
       "Cabin\n",
       "0    687\n",
       "1    204\n",
       "Name: count, dtype: int64"
      ]
     },
     "execution_count": 26,
     "metadata": {},
     "output_type": "execute_result"
    }
   ],
   "source": [
    "# Visualizacion de proporcion de 0 y 1\n",
    "df_copy['Cabin'].value_counts()"
   ]
  },
  {
   "cell_type": "markdown",
   "id": "c8fe2272",
   "metadata": {},
   "source": [
    "### Creacion Columna Cabin_missing"
   ]
  },
  {
   "cell_type": "code",
   "execution_count": 28,
   "id": "98117093",
   "metadata": {},
   "outputs": [],
   "source": [
    "df_copy['Cabin_missing'] = df_copy['Cabin']"
   ]
  },
  {
   "cell_type": "markdown",
   "id": "36ad4f6f",
   "metadata": {},
   "source": [
    "Eliminamos del Dataframe `df_copy` la columna `Cabin`"
   ]
  },
  {
   "cell_type": "code",
   "execution_count": 30,
   "id": "142f739b",
   "metadata": {},
   "outputs": [],
   "source": [
    "df_copy.drop('Cabin', axis=1, inplace=True)"
   ]
  },
  {
   "cell_type": "markdown",
   "id": "8a6d93b7",
   "metadata": {},
   "source": [
    "## Columna Embarked"
   ]
  },
  {
   "cell_type": "markdown",
   "id": "8052f39d",
   "metadata": {},
   "source": [
    "Asigna el valor **S** a las dos filas de `Embarked` segun las `Acciones a realizar` en la fase exploratoria (EDA)\n",
    "[Ir a análisis exploratorio](./01_exploration.ipynb)"
   ]
  },
  {
   "cell_type": "code",
   "execution_count": 33,
   "id": "a133ce92",
   "metadata": {},
   "outputs": [],
   "source": [
    "df_copy.loc[[61, 829],['Embarked']] = 'S'"
   ]
  }
 ],
 "metadata": {
  "kernelspec": {
   "display_name": "kagg-env",
   "language": "python",
   "name": "python3"
  },
  "language_info": {
   "codemirror_mode": {
    "name": "ipython",
    "version": 3
   },
   "file_extension": ".py",
   "mimetype": "text/x-python",
   "name": "python",
   "nbconvert_exporter": "python",
   "pygments_lexer": "ipython3",
   "version": "3.13.7"
  }
 },
 "nbformat": 4,
 "nbformat_minor": 5
}
