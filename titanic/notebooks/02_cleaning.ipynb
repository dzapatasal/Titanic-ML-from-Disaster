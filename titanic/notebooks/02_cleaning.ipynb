{
 "cells": [
  {
   "cell_type": "markdown",
   "id": "7a32b2cb",
   "metadata": {},
   "source": [
    "# Dependencias"
   ]
  },
  {
   "cell_type": "code",
   "execution_count": 1,
   "id": "f8692186",
   "metadata": {},
   "outputs": [],
   "source": [
    "import pandas as pd\n",
    "import numpy as np\n",
    "import seaborn as sns"
   ]
  },
  {
   "cell_type": "markdown",
   "id": "ba8abcc3",
   "metadata": {},
   "source": [
    "# Carga"
   ]
  },
  {
   "cell_type": "code",
   "execution_count": 2,
   "id": "904aec99",
   "metadata": {},
   "outputs": [],
   "source": [
    "path = '../data/raw/train.csv'\n",
    "df = pd.read_csv(path)"
   ]
  },
  {
   "cell_type": "code",
   "execution_count": 3,
   "id": "bfc6b148",
   "metadata": {},
   "outputs": [
    {
     "name": "stdout",
     "output_type": "stream",
     "text": [
      "<class 'pandas.core.frame.DataFrame'>\n",
      "RangeIndex: 891 entries, 0 to 890\n",
      "Data columns (total 12 columns):\n",
      " #   Column       Non-Null Count  Dtype  \n",
      "---  ------       --------------  -----  \n",
      " 0   PassengerId  891 non-null    int64  \n",
      " 1   Survived     891 non-null    int64  \n",
      " 2   Pclass       891 non-null    int64  \n",
      " 3   Name         891 non-null    object \n",
      " 4   Sex          891 non-null    object \n",
      " 5   Age          714 non-null    float64\n",
      " 6   SibSp        891 non-null    int64  \n",
      " 7   Parch        891 non-null    int64  \n",
      " 8   Ticket       891 non-null    object \n",
      " 9   Fare         891 non-null    float64\n",
      " 10  Cabin        204 non-null    object \n",
      " 11  Embarked     889 non-null    object \n",
      "dtypes: float64(2), int64(5), object(5)\n",
      "memory usage: 83.7+ KB\n"
     ]
    }
   ],
   "source": [
    "df.info()"
   ]
  },
  {
   "cell_type": "code",
   "execution_count": 4,
   "id": "38cfb91a",
   "metadata": {},
   "outputs": [
    {
     "data": {
      "application/vnd.microsoft.datawrangler.viewer.v0+json": {
       "columns": [
        {
         "name": "index",
         "rawType": "int64",
         "type": "integer"
        },
        {
         "name": "PassengerId",
         "rawType": "int64",
         "type": "integer"
        },
        {
         "name": "Survived",
         "rawType": "int64",
         "type": "integer"
        },
        {
         "name": "Pclass",
         "rawType": "int64",
         "type": "integer"
        },
        {
         "name": "Name",
         "rawType": "object",
         "type": "string"
        },
        {
         "name": "Sex",
         "rawType": "object",
         "type": "string"
        },
        {
         "name": "Age",
         "rawType": "float64",
         "type": "float"
        },
        {
         "name": "SibSp",
         "rawType": "int64",
         "type": "integer"
        },
        {
         "name": "Parch",
         "rawType": "int64",
         "type": "integer"
        },
        {
         "name": "Ticket",
         "rawType": "object",
         "type": "string"
        },
        {
         "name": "Fare",
         "rawType": "float64",
         "type": "float"
        },
        {
         "name": "Cabin",
         "rawType": "object",
         "type": "unknown"
        },
        {
         "name": "Embarked",
         "rawType": "object",
         "type": "string"
        }
       ],
       "ref": "cf360c17-c362-4f10-86ba-be90f59db9e5",
       "rows": [
        [
         "442",
         "443",
         "0",
         "3",
         "Petterson, Mr. Johan Emil",
         "male",
         "25.0",
         "1",
         "0",
         "347076",
         "7.775",
         null,
         "S"
        ],
        [
         "562",
         "563",
         "0",
         "2",
         "Norman, Mr. Robert Douglas",
         "male",
         "28.0",
         "0",
         "0",
         "218629",
         "13.5",
         null,
         "S"
        ],
        [
         "831",
         "832",
         "1",
         "2",
         "Richards, Master. George Sibley",
         "male",
         "0.83",
         "1",
         "1",
         "29106",
         "18.75",
         null,
         "S"
        ],
        [
         "651",
         "652",
         "1",
         "2",
         "Doling, Miss. Elsie",
         "female",
         "18.0",
         "0",
         "1",
         "231919",
         "23.0",
         null,
         "S"
        ],
        [
         "598",
         "599",
         "0",
         "3",
         "Boulos, Mr. Hanna",
         "male",
         null,
         "0",
         "0",
         "2664",
         "7.225",
         null,
         "C"
        ]
       ],
       "shape": {
        "columns": 12,
        "rows": 5
       }
      },
      "text/html": [
       "<div>\n",
       "<style scoped>\n",
       "    .dataframe tbody tr th:only-of-type {\n",
       "        vertical-align: middle;\n",
       "    }\n",
       "\n",
       "    .dataframe tbody tr th {\n",
       "        vertical-align: top;\n",
       "    }\n",
       "\n",
       "    .dataframe thead th {\n",
       "        text-align: right;\n",
       "    }\n",
       "</style>\n",
       "<table border=\"1\" class=\"dataframe\">\n",
       "  <thead>\n",
       "    <tr style=\"text-align: right;\">\n",
       "      <th></th>\n",
       "      <th>PassengerId</th>\n",
       "      <th>Survived</th>\n",
       "      <th>Pclass</th>\n",
       "      <th>Name</th>\n",
       "      <th>Sex</th>\n",
       "      <th>Age</th>\n",
       "      <th>SibSp</th>\n",
       "      <th>Parch</th>\n",
       "      <th>Ticket</th>\n",
       "      <th>Fare</th>\n",
       "      <th>Cabin</th>\n",
       "      <th>Embarked</th>\n",
       "    </tr>\n",
       "  </thead>\n",
       "  <tbody>\n",
       "    <tr>\n",
       "      <th>442</th>\n",
       "      <td>443</td>\n",
       "      <td>0</td>\n",
       "      <td>3</td>\n",
       "      <td>Petterson, Mr. Johan Emil</td>\n",
       "      <td>male</td>\n",
       "      <td>25.00</td>\n",
       "      <td>1</td>\n",
       "      <td>0</td>\n",
       "      <td>347076</td>\n",
       "      <td>7.775</td>\n",
       "      <td>NaN</td>\n",
       "      <td>S</td>\n",
       "    </tr>\n",
       "    <tr>\n",
       "      <th>562</th>\n",
       "      <td>563</td>\n",
       "      <td>0</td>\n",
       "      <td>2</td>\n",
       "      <td>Norman, Mr. Robert Douglas</td>\n",
       "      <td>male</td>\n",
       "      <td>28.00</td>\n",
       "      <td>0</td>\n",
       "      <td>0</td>\n",
       "      <td>218629</td>\n",
       "      <td>13.500</td>\n",
       "      <td>NaN</td>\n",
       "      <td>S</td>\n",
       "    </tr>\n",
       "    <tr>\n",
       "      <th>831</th>\n",
       "      <td>832</td>\n",
       "      <td>1</td>\n",
       "      <td>2</td>\n",
       "      <td>Richards, Master. George Sibley</td>\n",
       "      <td>male</td>\n",
       "      <td>0.83</td>\n",
       "      <td>1</td>\n",
       "      <td>1</td>\n",
       "      <td>29106</td>\n",
       "      <td>18.750</td>\n",
       "      <td>NaN</td>\n",
       "      <td>S</td>\n",
       "    </tr>\n",
       "    <tr>\n",
       "      <th>651</th>\n",
       "      <td>652</td>\n",
       "      <td>1</td>\n",
       "      <td>2</td>\n",
       "      <td>Doling, Miss. Elsie</td>\n",
       "      <td>female</td>\n",
       "      <td>18.00</td>\n",
       "      <td>0</td>\n",
       "      <td>1</td>\n",
       "      <td>231919</td>\n",
       "      <td>23.000</td>\n",
       "      <td>NaN</td>\n",
       "      <td>S</td>\n",
       "    </tr>\n",
       "    <tr>\n",
       "      <th>598</th>\n",
       "      <td>599</td>\n",
       "      <td>0</td>\n",
       "      <td>3</td>\n",
       "      <td>Boulos, Mr. Hanna</td>\n",
       "      <td>male</td>\n",
       "      <td>NaN</td>\n",
       "      <td>0</td>\n",
       "      <td>0</td>\n",
       "      <td>2664</td>\n",
       "      <td>7.225</td>\n",
       "      <td>NaN</td>\n",
       "      <td>C</td>\n",
       "    </tr>\n",
       "  </tbody>\n",
       "</table>\n",
       "</div>"
      ],
      "text/plain": [
       "     PassengerId  Survived  Pclass                             Name     Sex  \\\n",
       "442          443         0       3        Petterson, Mr. Johan Emil    male   \n",
       "562          563         0       2       Norman, Mr. Robert Douglas    male   \n",
       "831          832         1       2  Richards, Master. George Sibley    male   \n",
       "651          652         1       2              Doling, Miss. Elsie  female   \n",
       "598          599         0       3                Boulos, Mr. Hanna    male   \n",
       "\n",
       "       Age  SibSp  Parch  Ticket    Fare Cabin Embarked  \n",
       "442  25.00      1      0  347076   7.775   NaN        S  \n",
       "562  28.00      0      0  218629  13.500   NaN        S  \n",
       "831   0.83      1      1   29106  18.750   NaN        S  \n",
       "651  18.00      0      1  231919  23.000   NaN        S  \n",
       "598    NaN      0      0    2664   7.225   NaN        C  "
      ]
     },
     "execution_count": 4,
     "metadata": {},
     "output_type": "execute_result"
    }
   ],
   "source": [
    "df.sample(5)"
   ]
  },
  {
   "cell_type": "markdown",
   "id": "9558b99e",
   "metadata": {},
   "source": [
    "# Modificando ~ imputando"
   ]
  },
  {
   "cell_type": "code",
   "execution_count": 5,
   "id": "ae91689e",
   "metadata": {},
   "outputs": [],
   "source": [
    "# Se realiza un copia del df original\n",
    "# Esto permiteconservar el DataFrame original para futuras comparaciones o restauraciones.\n",
    "df_copy = df.copy()"
   ]
  },
  {
   "cell_type": "markdown",
   "id": "8561740c",
   "metadata": {},
   "source": [
    "## Columna `PassengerId`\n",
    "Eliminar columna segun las `Acciones a realizar` **-índice-** en la fase exploratoria (EDA)\n",
    "[Ir a análisis exploratorio](./01_exploration.ipynb)"
   ]
  },
  {
   "cell_type": "code",
   "execution_count": 6,
   "id": "cd756585",
   "metadata": {},
   "outputs": [],
   "source": [
    "df_copy.drop('PassengerId', axis=1, inplace=True)"
   ]
  },
  {
   "cell_type": "markdown",
   "id": "b102cc13",
   "metadata": {},
   "source": [
    "## Columna `Age`\n",
    "Segun las `Acciones a realizar` **-índice-** en la fase exploratoria (EDA)\n",
    "[Ir a análisis exploratorio](./01_exploration.ipynb)"
   ]
  },
  {
   "cell_type": "markdown",
   "id": "ad94dba8",
   "metadata": {},
   "source": [
    "promedio de edad por sexo"
   ]
  },
  {
   "cell_type": "code",
   "execution_count": 7,
   "id": "9d1731b1",
   "metadata": {},
   "outputs": [
    {
     "data": {
      "application/vnd.microsoft.datawrangler.viewer.v0+json": {
       "columns": [
        {
         "name": "index",
         "rawType": "object",
         "type": "string"
        },
        {
         "name": "0",
         "rawType": "int64",
         "type": "integer"
        }
       ],
       "ref": "27c30022-1eda-4654-a6ab-3a964300f465",
       "rows": [
        [
         "Sex",
         "177"
        ]
       ],
       "shape": {
        "columns": 1,
        "rows": 1
       }
      },
      "text/plain": [
       "Sex    177\n",
       "dtype: int64"
      ]
     },
     "execution_count": 7,
     "metadata": {},
     "output_type": "execute_result"
    }
   ],
   "source": [
    "# Cantidad de valores faltantes\n",
    "df.loc[df['Age'].isnull(),['Sex']].count()"
   ]
  },
  {
   "cell_type": "code",
   "execution_count": 8,
   "id": "1350a888",
   "metadata": {},
   "outputs": [
    {
     "data": {
      "text/plain": [
       "[5,\n",
       " 17,\n",
       " 19,\n",
       " 26,\n",
       " 28,\n",
       " 29,\n",
       " 31,\n",
       " 32,\n",
       " 36,\n",
       " 42,\n",
       " 45,\n",
       " 46,\n",
       " 47,\n",
       " 48,\n",
       " 55,\n",
       " 64,\n",
       " 65,\n",
       " 76,\n",
       " 77,\n",
       " 82,\n",
       " 87,\n",
       " 95,\n",
       " 101,\n",
       " 107,\n",
       " 109,\n",
       " 121,\n",
       " 126,\n",
       " 128,\n",
       " 140,\n",
       " 154,\n",
       " 158,\n",
       " 159,\n",
       " 166,\n",
       " 168,\n",
       " 176,\n",
       " 180,\n",
       " 181,\n",
       " 185,\n",
       " 186,\n",
       " 196,\n",
       " 198,\n",
       " 201,\n",
       " 214,\n",
       " 223,\n",
       " 229,\n",
       " 235,\n",
       " 240,\n",
       " 241,\n",
       " 250,\n",
       " 256,\n",
       " 260,\n",
       " 264,\n",
       " 270,\n",
       " 274,\n",
       " 277,\n",
       " 284,\n",
       " 295,\n",
       " 298,\n",
       " 300,\n",
       " 301,\n",
       " 303,\n",
       " 304,\n",
       " 306,\n",
       " 324,\n",
       " 330,\n",
       " 334,\n",
       " 335,\n",
       " 347,\n",
       " 351,\n",
       " 354,\n",
       " 358,\n",
       " 359,\n",
       " 364,\n",
       " 367,\n",
       " 368,\n",
       " 375,\n",
       " 384,\n",
       " 388,\n",
       " 409,\n",
       " 410,\n",
       " 411,\n",
       " 413,\n",
       " 415,\n",
       " 420,\n",
       " 425,\n",
       " 428,\n",
       " 431,\n",
       " 444,\n",
       " 451,\n",
       " 454,\n",
       " 457,\n",
       " 459,\n",
       " 464,\n",
       " 466,\n",
       " 468,\n",
       " 470,\n",
       " 475,\n",
       " 481,\n",
       " 485,\n",
       " 490,\n",
       " 495,\n",
       " 497,\n",
       " 502,\n",
       " 507,\n",
       " 511,\n",
       " 517,\n",
       " 522,\n",
       " 524,\n",
       " 527,\n",
       " 531,\n",
       " 533,\n",
       " 538,\n",
       " 547,\n",
       " 552,\n",
       " 557,\n",
       " 560,\n",
       " 563,\n",
       " 564,\n",
       " 568,\n",
       " 573,\n",
       " 578,\n",
       " 584,\n",
       " 589,\n",
       " 593,\n",
       " 596,\n",
       " 598,\n",
       " 601,\n",
       " 602,\n",
       " 611,\n",
       " 612,\n",
       " 613,\n",
       " 629,\n",
       " 633,\n",
       " 639,\n",
       " 643,\n",
       " 648,\n",
       " 650,\n",
       " 653,\n",
       " 656,\n",
       " 667,\n",
       " 669,\n",
       " 674,\n",
       " 680,\n",
       " 692,\n",
       " 697,\n",
       " 709,\n",
       " 711,\n",
       " 718,\n",
       " 727,\n",
       " 732,\n",
       " 738,\n",
       " 739,\n",
       " 740,\n",
       " 760,\n",
       " 766,\n",
       " 768,\n",
       " 773,\n",
       " 776,\n",
       " 778,\n",
       " 783,\n",
       " 790,\n",
       " 792,\n",
       " 793,\n",
       " 815,\n",
       " 825,\n",
       " 826,\n",
       " 828,\n",
       " 832,\n",
       " 837,\n",
       " 839,\n",
       " 846,\n",
       " 849,\n",
       " 859,\n",
       " 863,\n",
       " 868,\n",
       " 878,\n",
       " 888]"
      ]
     },
     "execution_count": 8,
     "metadata": {},
     "output_type": "execute_result"
    }
   ],
   "source": [
    "# Guarda en la variable los índices de todas las filas donde la columna `Age` tiene un valor nulo.\n",
    "edades_nan = list(df.loc[df['Age'].isnull(),['Age']].index)\n",
    "edades_nan"
   ]
  },
  {
   "cell_type": "code",
   "execution_count": 9,
   "id": "f6bb7786",
   "metadata": {},
   "outputs": [
    {
     "data": {
      "application/vnd.microsoft.datawrangler.viewer.v0+json": {
       "columns": [
        {
         "name": "index",
         "rawType": "int64",
         "type": "integer"
        },
        {
         "name": "Sex",
         "rawType": "object",
         "type": "string"
        },
        {
         "name": "Age",
         "rawType": "float64",
         "type": "float"
        }
       ],
       "ref": "60d532fd-72ef-4e40-a8d5-5562bfada65e",
       "rows": [
        [
         "5",
         "male",
         null
        ],
        [
         "17",
         "male",
         null
        ],
        [
         "19",
         "female",
         null
        ],
        [
         "26",
         "male",
         null
        ],
        [
         "28",
         "female",
         null
        ],
        [
         "29",
         "male",
         null
        ],
        [
         "31",
         "female",
         null
        ],
        [
         "32",
         "female",
         null
        ],
        [
         "36",
         "male",
         null
        ],
        [
         "42",
         "male",
         null
        ],
        [
         "45",
         "male",
         null
        ],
        [
         "46",
         "male",
         null
        ],
        [
         "47",
         "female",
         null
        ],
        [
         "48",
         "male",
         null
        ],
        [
         "55",
         "male",
         null
        ],
        [
         "64",
         "male",
         null
        ],
        [
         "65",
         "male",
         null
        ],
        [
         "76",
         "male",
         null
        ],
        [
         "77",
         "male",
         null
        ],
        [
         "82",
         "female",
         null
        ],
        [
         "87",
         "male",
         null
        ],
        [
         "95",
         "male",
         null
        ],
        [
         "101",
         "male",
         null
        ],
        [
         "107",
         "male",
         null
        ],
        [
         "109",
         "female",
         null
        ],
        [
         "121",
         "male",
         null
        ],
        [
         "126",
         "male",
         null
        ],
        [
         "128",
         "female",
         null
        ],
        [
         "140",
         "female",
         null
        ],
        [
         "154",
         "male",
         null
        ],
        [
         "158",
         "male",
         null
        ],
        [
         "159",
         "male",
         null
        ],
        [
         "166",
         "female",
         null
        ],
        [
         "168",
         "male",
         null
        ],
        [
         "176",
         "male",
         null
        ],
        [
         "180",
         "female",
         null
        ],
        [
         "181",
         "male",
         null
        ],
        [
         "185",
         "male",
         null
        ],
        [
         "186",
         "female",
         null
        ],
        [
         "196",
         "male",
         null
        ],
        [
         "198",
         "female",
         null
        ],
        [
         "201",
         "male",
         null
        ],
        [
         "214",
         "male",
         null
        ],
        [
         "223",
         "male",
         null
        ],
        [
         "229",
         "female",
         null
        ],
        [
         "235",
         "female",
         null
        ],
        [
         "240",
         "female",
         null
        ],
        [
         "241",
         "female",
         null
        ],
        [
         "250",
         "male",
         null
        ],
        [
         "256",
         "female",
         null
        ]
       ],
       "shape": {
        "columns": 2,
        "rows": 177
       }
      },
      "text/html": [
       "<div>\n",
       "<style scoped>\n",
       "    .dataframe tbody tr th:only-of-type {\n",
       "        vertical-align: middle;\n",
       "    }\n",
       "\n",
       "    .dataframe tbody tr th {\n",
       "        vertical-align: top;\n",
       "    }\n",
       "\n",
       "    .dataframe thead th {\n",
       "        text-align: right;\n",
       "    }\n",
       "</style>\n",
       "<table border=\"1\" class=\"dataframe\">\n",
       "  <thead>\n",
       "    <tr style=\"text-align: right;\">\n",
       "      <th></th>\n",
       "      <th>Sex</th>\n",
       "      <th>Age</th>\n",
       "    </tr>\n",
       "  </thead>\n",
       "  <tbody>\n",
       "    <tr>\n",
       "      <th>5</th>\n",
       "      <td>male</td>\n",
       "      <td>NaN</td>\n",
       "    </tr>\n",
       "    <tr>\n",
       "      <th>17</th>\n",
       "      <td>male</td>\n",
       "      <td>NaN</td>\n",
       "    </tr>\n",
       "    <tr>\n",
       "      <th>19</th>\n",
       "      <td>female</td>\n",
       "      <td>NaN</td>\n",
       "    </tr>\n",
       "    <tr>\n",
       "      <th>26</th>\n",
       "      <td>male</td>\n",
       "      <td>NaN</td>\n",
       "    </tr>\n",
       "    <tr>\n",
       "      <th>28</th>\n",
       "      <td>female</td>\n",
       "      <td>NaN</td>\n",
       "    </tr>\n",
       "    <tr>\n",
       "      <th>...</th>\n",
       "      <td>...</td>\n",
       "      <td>...</td>\n",
       "    </tr>\n",
       "    <tr>\n",
       "      <th>859</th>\n",
       "      <td>male</td>\n",
       "      <td>NaN</td>\n",
       "    </tr>\n",
       "    <tr>\n",
       "      <th>863</th>\n",
       "      <td>female</td>\n",
       "      <td>NaN</td>\n",
       "    </tr>\n",
       "    <tr>\n",
       "      <th>868</th>\n",
       "      <td>male</td>\n",
       "      <td>NaN</td>\n",
       "    </tr>\n",
       "    <tr>\n",
       "      <th>878</th>\n",
       "      <td>male</td>\n",
       "      <td>NaN</td>\n",
       "    </tr>\n",
       "    <tr>\n",
       "      <th>888</th>\n",
       "      <td>female</td>\n",
       "      <td>NaN</td>\n",
       "    </tr>\n",
       "  </tbody>\n",
       "</table>\n",
       "<p>177 rows × 2 columns</p>\n",
       "</div>"
      ],
      "text/plain": [
       "        Sex  Age\n",
       "5      male  NaN\n",
       "17     male  NaN\n",
       "19   female  NaN\n",
       "26     male  NaN\n",
       "28   female  NaN\n",
       "..      ...  ...\n",
       "859    male  NaN\n",
       "863  female  NaN\n",
       "868    male  NaN\n",
       "878    male  NaN\n",
       "888  female  NaN\n",
       "\n",
       "[177 rows x 2 columns]"
      ]
     },
     "execution_count": 9,
     "metadata": {},
     "output_type": "execute_result"
    }
   ],
   "source": [
    "#  Permite ver el sexo y la edad (que será NaN) de los pasajeros que tienen valores faltantes en la columna Age.\n",
    "df.loc[edades_nan,['Sex', 'Age']]"
   ]
  },
  {
   "cell_type": "code",
   "execution_count": 10,
   "id": "3272ce53",
   "metadata": {},
   "outputs": [
    {
     "data": {
      "application/vnd.microsoft.datawrangler.viewer.v0+json": {
       "columns": [
        {
         "name": "index",
         "rawType": "int64",
         "type": "integer"
        },
        {
         "name": "Survived",
         "rawType": "int64",
         "type": "integer"
        },
        {
         "name": "Pclass",
         "rawType": "int64",
         "type": "integer"
        },
        {
         "name": "Name",
         "rawType": "object",
         "type": "string"
        },
        {
         "name": "Sex",
         "rawType": "object",
         "type": "string"
        },
        {
         "name": "Age",
         "rawType": "float64",
         "type": "float"
        },
        {
         "name": "SibSp",
         "rawType": "int64",
         "type": "integer"
        },
        {
         "name": "Parch",
         "rawType": "int64",
         "type": "integer"
        },
        {
         "name": "Ticket",
         "rawType": "object",
         "type": "string"
        },
        {
         "name": "Fare",
         "rawType": "float64",
         "type": "float"
        },
        {
         "name": "Cabin",
         "rawType": "object",
         "type": "unknown"
        },
        {
         "name": "Embarked",
         "rawType": "object",
         "type": "string"
        }
       ],
       "ref": "681bd569-41aa-49bf-911a-26526010daec",
       "rows": [
        [
         "5",
         "0",
         "3",
         "Moran, Mr. James",
         "male",
         null,
         "0",
         "0",
         "330877",
         "8.4583",
         null,
         "Q"
        ],
        [
         "17",
         "1",
         "2",
         "Williams, Mr. Charles Eugene",
         "male",
         null,
         "0",
         "0",
         "244373",
         "13.0",
         null,
         "S"
        ],
        [
         "26",
         "0",
         "3",
         "Emir, Mr. Farred Chehab",
         "male",
         null,
         "0",
         "0",
         "2631",
         "7.225",
         null,
         "C"
        ],
        [
         "29",
         "0",
         "3",
         "Todoroff, Mr. Lalio",
         "male",
         null,
         "0",
         "0",
         "349216",
         "7.8958",
         null,
         "S"
        ],
        [
         "36",
         "1",
         "3",
         "Mamee, Mr. Hanna",
         "male",
         null,
         "0",
         "0",
         "2677",
         "7.2292",
         null,
         "C"
        ],
        [
         "42",
         "0",
         "3",
         "Kraeff, Mr. Theodor",
         "male",
         null,
         "0",
         "0",
         "349253",
         "7.8958",
         null,
         "C"
        ],
        [
         "45",
         "0",
         "3",
         "Rogers, Mr. William John",
         "male",
         null,
         "0",
         "0",
         "S.C./A.4. 23567",
         "8.05",
         null,
         "S"
        ],
        [
         "46",
         "0",
         "3",
         "Lennon, Mr. Denis",
         "male",
         null,
         "1",
         "0",
         "370371",
         "15.5",
         null,
         "Q"
        ],
        [
         "48",
         "0",
         "3",
         "Samaan, Mr. Youssef",
         "male",
         null,
         "2",
         "0",
         "2662",
         "21.6792",
         null,
         "C"
        ],
        [
         "55",
         "1",
         "1",
         "Woolner, Mr. Hugh",
         "male",
         null,
         "0",
         "0",
         "19947",
         "35.5",
         "C52",
         "S"
        ],
        [
         "64",
         "0",
         "1",
         "Stewart, Mr. Albert A",
         "male",
         null,
         "0",
         "0",
         "PC 17605",
         "27.7208",
         null,
         "C"
        ],
        [
         "65",
         "1",
         "3",
         "Moubarek, Master. Gerios",
         "male",
         null,
         "1",
         "1",
         "2661",
         "15.2458",
         null,
         "C"
        ],
        [
         "76",
         "0",
         "3",
         "Staneff, Mr. Ivan",
         "male",
         null,
         "0",
         "0",
         "349208",
         "7.8958",
         null,
         "S"
        ],
        [
         "77",
         "0",
         "3",
         "Moutal, Mr. Rahamin Haim",
         "male",
         null,
         "0",
         "0",
         "374746",
         "8.05",
         null,
         "S"
        ],
        [
         "87",
         "0",
         "3",
         "Slocovski, Mr. Selman Francis",
         "male",
         null,
         "0",
         "0",
         "SOTON/OQ 392086",
         "8.05",
         null,
         "S"
        ],
        [
         "95",
         "0",
         "3",
         "Shorney, Mr. Charles Joseph",
         "male",
         null,
         "0",
         "0",
         "374910",
         "8.05",
         null,
         "S"
        ],
        [
         "101",
         "0",
         "3",
         "Petroff, Mr. Pastcho (\"Pentcho\")",
         "male",
         null,
         "0",
         "0",
         "349215",
         "7.8958",
         null,
         "S"
        ],
        [
         "107",
         "1",
         "3",
         "Moss, Mr. Albert Johan",
         "male",
         null,
         "0",
         "0",
         "312991",
         "7.775",
         null,
         "S"
        ],
        [
         "121",
         "0",
         "3",
         "Moore, Mr. Leonard Charles",
         "male",
         null,
         "0",
         "0",
         "A4. 54510",
         "8.05",
         null,
         "S"
        ],
        [
         "126",
         "0",
         "3",
         "McMahon, Mr. Martin",
         "male",
         null,
         "0",
         "0",
         "370372",
         "7.75",
         null,
         "Q"
        ],
        [
         "154",
         "0",
         "3",
         "Olsen, Mr. Ole Martin",
         "male",
         null,
         "0",
         "0",
         "Fa 265302",
         "7.3125",
         null,
         "S"
        ],
        [
         "158",
         "0",
         "3",
         "Smiljanic, Mr. Mile",
         "male",
         null,
         "0",
         "0",
         "315037",
         "8.6625",
         null,
         "S"
        ],
        [
         "159",
         "0",
         "3",
         "Sage, Master. Thomas Henry",
         "male",
         null,
         "8",
         "2",
         "CA. 2343",
         "69.55",
         null,
         "S"
        ],
        [
         "168",
         "0",
         "1",
         "Baumann, Mr. John D",
         "male",
         null,
         "0",
         "0",
         "PC 17318",
         "25.925",
         null,
         "S"
        ],
        [
         "176",
         "0",
         "3",
         "Lefebre, Master. Henry Forbes",
         "male",
         null,
         "3",
         "1",
         "4133",
         "25.4667",
         null,
         "S"
        ],
        [
         "181",
         "0",
         "2",
         "Pernot, Mr. Rene",
         "male",
         null,
         "0",
         "0",
         "SC/PARIS 2131",
         "15.05",
         null,
         "C"
        ],
        [
         "185",
         "0",
         "1",
         "Rood, Mr. Hugh Roscoe",
         "male",
         null,
         "0",
         "0",
         "113767",
         "50.0",
         "A32",
         "S"
        ],
        [
         "196",
         "0",
         "3",
         "Mernagh, Mr. Robert",
         "male",
         null,
         "0",
         "0",
         "368703",
         "7.75",
         null,
         "Q"
        ],
        [
         "201",
         "0",
         "3",
         "Sage, Mr. Frederick",
         "male",
         null,
         "8",
         "2",
         "CA. 2343",
         "69.55",
         null,
         "S"
        ],
        [
         "214",
         "0",
         "3",
         "Kiernan, Mr. Philip",
         "male",
         null,
         "1",
         "0",
         "367229",
         "7.75",
         null,
         "Q"
        ],
        [
         "223",
         "0",
         "3",
         "Nenkoff, Mr. Christo",
         "male",
         null,
         "0",
         "0",
         "349234",
         "7.8958",
         null,
         "S"
        ],
        [
         "250",
         "0",
         "3",
         "Reed, Mr. James George",
         "male",
         null,
         "0",
         "0",
         "362316",
         "7.25",
         null,
         "S"
        ],
        [
         "260",
         "0",
         "3",
         "Smith, Mr. Thomas",
         "male",
         null,
         "0",
         "0",
         "384461",
         "7.75",
         null,
         "Q"
        ],
        [
         "270",
         "0",
         "1",
         "Cairns, Mr. Alexander",
         "male",
         null,
         "0",
         "0",
         "113798",
         "31.0",
         null,
         "S"
        ],
        [
         "277",
         "0",
         "2",
         "Parkes, Mr. Francis \"Frank\"",
         "male",
         null,
         "0",
         "0",
         "239853",
         "0.0",
         null,
         "S"
        ],
        [
         "284",
         "0",
         "1",
         "Smith, Mr. Richard William",
         "male",
         null,
         "0",
         "0",
         "113056",
         "26.0",
         "A19",
         "S"
        ],
        [
         "295",
         "0",
         "1",
         "Lewy, Mr. Ervin G",
         "male",
         null,
         "0",
         "0",
         "PC 17612",
         "27.7208",
         null,
         "C"
        ],
        [
         "298",
         "1",
         "1",
         "Saalfeld, Mr. Adolphe",
         "male",
         null,
         "0",
         "0",
         "19988",
         "30.5",
         "C106",
         "S"
        ],
        [
         "301",
         "1",
         "3",
         "McCoy, Mr. Bernard",
         "male",
         null,
         "2",
         "0",
         "367226",
         "23.25",
         null,
         "Q"
        ],
        [
         "304",
         "0",
         "3",
         "Williams, Mr. Howard Hugh \"Harry\"",
         "male",
         null,
         "0",
         "0",
         "A/5 2466",
         "8.05",
         null,
         "S"
        ],
        [
         "324",
         "0",
         "3",
         "Sage, Mr. George John Jr",
         "male",
         null,
         "8",
         "2",
         "CA. 2343",
         "69.55",
         null,
         "S"
        ],
        [
         "335",
         "0",
         "3",
         "Denkoff, Mr. Mitto",
         "male",
         null,
         "0",
         "0",
         "349225",
         "7.8958",
         null,
         "S"
        ],
        [
         "351",
         "0",
         "1",
         "Williams-Lambert, Mr. Fletcher Fellows",
         "male",
         null,
         "0",
         "0",
         "113510",
         "35.0",
         "C128",
         "S"
        ],
        [
         "354",
         "0",
         "3",
         "Yousif, Mr. Wazli",
         "male",
         null,
         "0",
         "0",
         "2647",
         "7.225",
         null,
         "C"
        ],
        [
         "364",
         "0",
         "3",
         "O'Brien, Mr. Thomas",
         "male",
         null,
         "1",
         "0",
         "370365",
         "15.5",
         null,
         "Q"
        ],
        [
         "384",
         "0",
         "3",
         "Plotcharsky, Mr. Vasil",
         "male",
         null,
         "0",
         "0",
         "349227",
         "7.8958",
         null,
         "S"
        ],
        [
         "388",
         "0",
         "3",
         "Sadlier, Mr. Matthew",
         "male",
         null,
         "0",
         "0",
         "367655",
         "7.7292",
         null,
         "Q"
        ],
        [
         "410",
         "0",
         "3",
         "Sdycoff, Mr. Todor",
         "male",
         null,
         "0",
         "0",
         "349222",
         "7.8958",
         null,
         "S"
        ],
        [
         "411",
         "0",
         "3",
         "Hart, Mr. Henry",
         "male",
         null,
         "0",
         "0",
         "394140",
         "6.8583",
         null,
         "Q"
        ],
        [
         "413",
         "0",
         "2",
         "Cunningham, Mr. Alfred Fleming",
         "male",
         null,
         "0",
         "0",
         "239853",
         "0.0",
         null,
         "S"
        ]
       ],
       "shape": {
        "columns": 11,
        "rows": 124
       }
      },
      "text/html": [
       "<div>\n",
       "<style scoped>\n",
       "    .dataframe tbody tr th:only-of-type {\n",
       "        vertical-align: middle;\n",
       "    }\n",
       "\n",
       "    .dataframe tbody tr th {\n",
       "        vertical-align: top;\n",
       "    }\n",
       "\n",
       "    .dataframe thead th {\n",
       "        text-align: right;\n",
       "    }\n",
       "</style>\n",
       "<table border=\"1\" class=\"dataframe\">\n",
       "  <thead>\n",
       "    <tr style=\"text-align: right;\">\n",
       "      <th></th>\n",
       "      <th>Survived</th>\n",
       "      <th>Pclass</th>\n",
       "      <th>Name</th>\n",
       "      <th>Sex</th>\n",
       "      <th>Age</th>\n",
       "      <th>SibSp</th>\n",
       "      <th>Parch</th>\n",
       "      <th>Ticket</th>\n",
       "      <th>Fare</th>\n",
       "      <th>Cabin</th>\n",
       "      <th>Embarked</th>\n",
       "    </tr>\n",
       "  </thead>\n",
       "  <tbody>\n",
       "    <tr>\n",
       "      <th>5</th>\n",
       "      <td>0</td>\n",
       "      <td>3</td>\n",
       "      <td>Moran, Mr. James</td>\n",
       "      <td>male</td>\n",
       "      <td>NaN</td>\n",
       "      <td>0</td>\n",
       "      <td>0</td>\n",
       "      <td>330877</td>\n",
       "      <td>8.4583</td>\n",
       "      <td>NaN</td>\n",
       "      <td>Q</td>\n",
       "    </tr>\n",
       "    <tr>\n",
       "      <th>17</th>\n",
       "      <td>1</td>\n",
       "      <td>2</td>\n",
       "      <td>Williams, Mr. Charles Eugene</td>\n",
       "      <td>male</td>\n",
       "      <td>NaN</td>\n",
       "      <td>0</td>\n",
       "      <td>0</td>\n",
       "      <td>244373</td>\n",
       "      <td>13.0000</td>\n",
       "      <td>NaN</td>\n",
       "      <td>S</td>\n",
       "    </tr>\n",
       "    <tr>\n",
       "      <th>26</th>\n",
       "      <td>0</td>\n",
       "      <td>3</td>\n",
       "      <td>Emir, Mr. Farred Chehab</td>\n",
       "      <td>male</td>\n",
       "      <td>NaN</td>\n",
       "      <td>0</td>\n",
       "      <td>0</td>\n",
       "      <td>2631</td>\n",
       "      <td>7.2250</td>\n",
       "      <td>NaN</td>\n",
       "      <td>C</td>\n",
       "    </tr>\n",
       "    <tr>\n",
       "      <th>29</th>\n",
       "      <td>0</td>\n",
       "      <td>3</td>\n",
       "      <td>Todoroff, Mr. Lalio</td>\n",
       "      <td>male</td>\n",
       "      <td>NaN</td>\n",
       "      <td>0</td>\n",
       "      <td>0</td>\n",
       "      <td>349216</td>\n",
       "      <td>7.8958</td>\n",
       "      <td>NaN</td>\n",
       "      <td>S</td>\n",
       "    </tr>\n",
       "    <tr>\n",
       "      <th>36</th>\n",
       "      <td>1</td>\n",
       "      <td>3</td>\n",
       "      <td>Mamee, Mr. Hanna</td>\n",
       "      <td>male</td>\n",
       "      <td>NaN</td>\n",
       "      <td>0</td>\n",
       "      <td>0</td>\n",
       "      <td>2677</td>\n",
       "      <td>7.2292</td>\n",
       "      <td>NaN</td>\n",
       "      <td>C</td>\n",
       "    </tr>\n",
       "    <tr>\n",
       "      <th>...</th>\n",
       "      <td>...</td>\n",
       "      <td>...</td>\n",
       "      <td>...</td>\n",
       "      <td>...</td>\n",
       "      <td>...</td>\n",
       "      <td>...</td>\n",
       "      <td>...</td>\n",
       "      <td>...</td>\n",
       "      <td>...</td>\n",
       "      <td>...</td>\n",
       "      <td>...</td>\n",
       "    </tr>\n",
       "    <tr>\n",
       "      <th>839</th>\n",
       "      <td>1</td>\n",
       "      <td>1</td>\n",
       "      <td>Marechal, Mr. Pierre</td>\n",
       "      <td>male</td>\n",
       "      <td>NaN</td>\n",
       "      <td>0</td>\n",
       "      <td>0</td>\n",
       "      <td>11774</td>\n",
       "      <td>29.7000</td>\n",
       "      <td>C47</td>\n",
       "      <td>C</td>\n",
       "    </tr>\n",
       "    <tr>\n",
       "      <th>846</th>\n",
       "      <td>0</td>\n",
       "      <td>3</td>\n",
       "      <td>Sage, Mr. Douglas Bullen</td>\n",
       "      <td>male</td>\n",
       "      <td>NaN</td>\n",
       "      <td>8</td>\n",
       "      <td>2</td>\n",
       "      <td>CA. 2343</td>\n",
       "      <td>69.5500</td>\n",
       "      <td>NaN</td>\n",
       "      <td>S</td>\n",
       "    </tr>\n",
       "    <tr>\n",
       "      <th>859</th>\n",
       "      <td>0</td>\n",
       "      <td>3</td>\n",
       "      <td>Razi, Mr. Raihed</td>\n",
       "      <td>male</td>\n",
       "      <td>NaN</td>\n",
       "      <td>0</td>\n",
       "      <td>0</td>\n",
       "      <td>2629</td>\n",
       "      <td>7.2292</td>\n",
       "      <td>NaN</td>\n",
       "      <td>C</td>\n",
       "    </tr>\n",
       "    <tr>\n",
       "      <th>868</th>\n",
       "      <td>0</td>\n",
       "      <td>3</td>\n",
       "      <td>van Melkebeke, Mr. Philemon</td>\n",
       "      <td>male</td>\n",
       "      <td>NaN</td>\n",
       "      <td>0</td>\n",
       "      <td>0</td>\n",
       "      <td>345777</td>\n",
       "      <td>9.5000</td>\n",
       "      <td>NaN</td>\n",
       "      <td>S</td>\n",
       "    </tr>\n",
       "    <tr>\n",
       "      <th>878</th>\n",
       "      <td>0</td>\n",
       "      <td>3</td>\n",
       "      <td>Laleff, Mr. Kristo</td>\n",
       "      <td>male</td>\n",
       "      <td>NaN</td>\n",
       "      <td>0</td>\n",
       "      <td>0</td>\n",
       "      <td>349217</td>\n",
       "      <td>7.8958</td>\n",
       "      <td>NaN</td>\n",
       "      <td>S</td>\n",
       "    </tr>\n",
       "  </tbody>\n",
       "</table>\n",
       "<p>124 rows × 11 columns</p>\n",
       "</div>"
      ],
      "text/plain": [
       "     Survived  Pclass                          Name   Sex  Age  SibSp  Parch  \\\n",
       "5           0       3              Moran, Mr. James  male  NaN      0      0   \n",
       "17          1       2  Williams, Mr. Charles Eugene  male  NaN      0      0   \n",
       "26          0       3       Emir, Mr. Farred Chehab  male  NaN      0      0   \n",
       "29          0       3           Todoroff, Mr. Lalio  male  NaN      0      0   \n",
       "36          1       3              Mamee, Mr. Hanna  male  NaN      0      0   \n",
       "..        ...     ...                           ...   ...  ...    ...    ...   \n",
       "839         1       1          Marechal, Mr. Pierre  male  NaN      0      0   \n",
       "846         0       3      Sage, Mr. Douglas Bullen  male  NaN      8      2   \n",
       "859         0       3              Razi, Mr. Raihed  male  NaN      0      0   \n",
       "868         0       3   van Melkebeke, Mr. Philemon  male  NaN      0      0   \n",
       "878         0       3            Laleff, Mr. Kristo  male  NaN      0      0   \n",
       "\n",
       "       Ticket     Fare Cabin Embarked  \n",
       "5      330877   8.4583   NaN        Q  \n",
       "17     244373  13.0000   NaN        S  \n",
       "26       2631   7.2250   NaN        C  \n",
       "29     349216   7.8958   NaN        S  \n",
       "36       2677   7.2292   NaN        C  \n",
       "..        ...      ...   ...      ...  \n",
       "839     11774  29.7000   C47        C  \n",
       "846  CA. 2343  69.5500   NaN        S  \n",
       "859      2629   7.2292   NaN        C  \n",
       "868    345777   9.5000   NaN        S  \n",
       "878    349217   7.8958   NaN        S  \n",
       "\n",
       "[124 rows x 11 columns]"
      ]
     },
     "execution_count": 10,
     "metadata": {},
     "output_type": "execute_result"
    }
   ],
   "source": [
    "# Muestra todas las filas del DataFrame `df_copy` donde la columna Age es NaN (faltante) y la columna Sex es 'male'.\n",
    "df_copy[(df['Age'].isnull()) & (df['Sex'] == 'male')]"
   ]
  },
  {
   "cell_type": "markdown",
   "id": "f57de161",
   "metadata": {},
   "source": [
    "### Asignando valores"
   ]
  },
  {
   "cell_type": "markdown",
   "id": "3d74029c",
   "metadata": {},
   "source": [
    "Asigna el valor 30.7 a la columna `Age` en todas las filas de `df_copy` donde Age es NaN (faltante) y Sex es '**male**'."
   ]
  },
  {
   "cell_type": "code",
   "execution_count": 11,
   "id": "9b199ce3",
   "metadata": {},
   "outputs": [],
   "source": [
    "df_copy.loc[(df_copy['Age'].isnull()) & (df_copy['Sex'] == 'male'),'Age'] = 30.7"
   ]
  },
  {
   "cell_type": "markdown",
   "id": "0ef60d13",
   "metadata": {},
   "source": [
    "Asigna el valor 27.9 a la columna `Age` en todas las filas de `df_copy` donde Age es NaN (faltante) y Sex es '**female**'."
   ]
  },
  {
   "cell_type": "code",
   "execution_count": 12,
   "id": "cce73168",
   "metadata": {},
   "outputs": [],
   "source": [
    "df_copy.loc[(df_copy['Age'].isnull()) & (df_copy['Sex'] == 'female'),'Age'] = 27.9"
   ]
  },
  {
   "cell_type": "code",
   "execution_count": 13,
   "id": "09263f1f",
   "metadata": {},
   "outputs": [
    {
     "data": {
      "application/vnd.microsoft.datawrangler.viewer.v0+json": {
       "columns": [
        {
         "name": "index",
         "rawType": "int64",
         "type": "integer"
        },
        {
         "name": "Sex",
         "rawType": "object",
         "type": "string"
        },
        {
         "name": "Age",
         "rawType": "float64",
         "type": "float"
        }
       ],
       "ref": "c2f12cdd-ebea-4dbe-b67b-410224a0033d",
       "rows": [
        [
         "5",
         "male",
         "30.7"
        ],
        [
         "17",
         "male",
         "30.7"
        ],
        [
         "19",
         "female",
         "27.9"
        ],
        [
         "26",
         "male",
         "30.7"
        ],
        [
         "28",
         "female",
         "27.9"
        ],
        [
         "29",
         "male",
         "30.7"
        ],
        [
         "31",
         "female",
         "27.9"
        ],
        [
         "32",
         "female",
         "27.9"
        ],
        [
         "36",
         "male",
         "30.7"
        ],
        [
         "42",
         "male",
         "30.7"
        ],
        [
         "45",
         "male",
         "30.7"
        ],
        [
         "46",
         "male",
         "30.7"
        ],
        [
         "47",
         "female",
         "27.9"
        ],
        [
         "48",
         "male",
         "30.7"
        ],
        [
         "55",
         "male",
         "30.7"
        ],
        [
         "64",
         "male",
         "30.7"
        ],
        [
         "65",
         "male",
         "30.7"
        ],
        [
         "76",
         "male",
         "30.7"
        ],
        [
         "77",
         "male",
         "30.7"
        ],
        [
         "82",
         "female",
         "27.9"
        ],
        [
         "87",
         "male",
         "30.7"
        ],
        [
         "95",
         "male",
         "30.7"
        ],
        [
         "101",
         "male",
         "30.7"
        ],
        [
         "107",
         "male",
         "30.7"
        ],
        [
         "109",
         "female",
         "27.9"
        ],
        [
         "121",
         "male",
         "30.7"
        ],
        [
         "126",
         "male",
         "30.7"
        ],
        [
         "128",
         "female",
         "27.9"
        ],
        [
         "140",
         "female",
         "27.9"
        ],
        [
         "154",
         "male",
         "30.7"
        ],
        [
         "158",
         "male",
         "30.7"
        ],
        [
         "159",
         "male",
         "30.7"
        ],
        [
         "166",
         "female",
         "27.9"
        ],
        [
         "168",
         "male",
         "30.7"
        ],
        [
         "176",
         "male",
         "30.7"
        ],
        [
         "180",
         "female",
         "27.9"
        ],
        [
         "181",
         "male",
         "30.7"
        ],
        [
         "185",
         "male",
         "30.7"
        ],
        [
         "186",
         "female",
         "27.9"
        ],
        [
         "196",
         "male",
         "30.7"
        ],
        [
         "198",
         "female",
         "27.9"
        ],
        [
         "201",
         "male",
         "30.7"
        ],
        [
         "214",
         "male",
         "30.7"
        ],
        [
         "223",
         "male",
         "30.7"
        ],
        [
         "229",
         "female",
         "27.9"
        ],
        [
         "235",
         "female",
         "27.9"
        ],
        [
         "240",
         "female",
         "27.9"
        ],
        [
         "241",
         "female",
         "27.9"
        ],
        [
         "250",
         "male",
         "30.7"
        ],
        [
         "256",
         "female",
         "27.9"
        ]
       ],
       "shape": {
        "columns": 2,
        "rows": 177
       }
      },
      "text/html": [
       "<div>\n",
       "<style scoped>\n",
       "    .dataframe tbody tr th:only-of-type {\n",
       "        vertical-align: middle;\n",
       "    }\n",
       "\n",
       "    .dataframe tbody tr th {\n",
       "        vertical-align: top;\n",
       "    }\n",
       "\n",
       "    .dataframe thead th {\n",
       "        text-align: right;\n",
       "    }\n",
       "</style>\n",
       "<table border=\"1\" class=\"dataframe\">\n",
       "  <thead>\n",
       "    <tr style=\"text-align: right;\">\n",
       "      <th></th>\n",
       "      <th>Sex</th>\n",
       "      <th>Age</th>\n",
       "    </tr>\n",
       "  </thead>\n",
       "  <tbody>\n",
       "    <tr>\n",
       "      <th>5</th>\n",
       "      <td>male</td>\n",
       "      <td>30.7</td>\n",
       "    </tr>\n",
       "    <tr>\n",
       "      <th>17</th>\n",
       "      <td>male</td>\n",
       "      <td>30.7</td>\n",
       "    </tr>\n",
       "    <tr>\n",
       "      <th>19</th>\n",
       "      <td>female</td>\n",
       "      <td>27.9</td>\n",
       "    </tr>\n",
       "    <tr>\n",
       "      <th>26</th>\n",
       "      <td>male</td>\n",
       "      <td>30.7</td>\n",
       "    </tr>\n",
       "    <tr>\n",
       "      <th>28</th>\n",
       "      <td>female</td>\n",
       "      <td>27.9</td>\n",
       "    </tr>\n",
       "    <tr>\n",
       "      <th>...</th>\n",
       "      <td>...</td>\n",
       "      <td>...</td>\n",
       "    </tr>\n",
       "    <tr>\n",
       "      <th>859</th>\n",
       "      <td>male</td>\n",
       "      <td>30.7</td>\n",
       "    </tr>\n",
       "    <tr>\n",
       "      <th>863</th>\n",
       "      <td>female</td>\n",
       "      <td>27.9</td>\n",
       "    </tr>\n",
       "    <tr>\n",
       "      <th>868</th>\n",
       "      <td>male</td>\n",
       "      <td>30.7</td>\n",
       "    </tr>\n",
       "    <tr>\n",
       "      <th>878</th>\n",
       "      <td>male</td>\n",
       "      <td>30.7</td>\n",
       "    </tr>\n",
       "    <tr>\n",
       "      <th>888</th>\n",
       "      <td>female</td>\n",
       "      <td>27.9</td>\n",
       "    </tr>\n",
       "  </tbody>\n",
       "</table>\n",
       "<p>177 rows × 2 columns</p>\n",
       "</div>"
      ],
      "text/plain": [
       "        Sex   Age\n",
       "5      male  30.7\n",
       "17     male  30.7\n",
       "19   female  27.9\n",
       "26     male  30.7\n",
       "28   female  27.9\n",
       "..      ...   ...\n",
       "859    male  30.7\n",
       "863  female  27.9\n",
       "868    male  30.7\n",
       "878    male  30.7\n",
       "888  female  27.9\n",
       "\n",
       "[177 rows x 2 columns]"
      ]
     },
     "execution_count": 13,
     "metadata": {},
     "output_type": "execute_result"
    }
   ],
   "source": [
    "# Verificacion\n",
    "df_copy.loc[edades_nan,['Sex', 'Age']]"
   ]
  },
  {
   "cell_type": "code",
   "execution_count": 14,
   "id": "56cfce21",
   "metadata": {},
   "outputs": [
    {
     "name": "stdout",
     "output_type": "stream",
     "text": [
      "<class 'pandas.core.frame.DataFrame'>\n",
      "RangeIndex: 891 entries, 0 to 890\n",
      "Data columns (total 11 columns):\n",
      " #   Column    Non-Null Count  Dtype  \n",
      "---  ------    --------------  -----  \n",
      " 0   Survived  891 non-null    int64  \n",
      " 1   Pclass    891 non-null    int64  \n",
      " 2   Name      891 non-null    object \n",
      " 3   Sex       891 non-null    object \n",
      " 4   Age       891 non-null    float64\n",
      " 5   SibSp     891 non-null    int64  \n",
      " 6   Parch     891 non-null    int64  \n",
      " 7   Ticket    891 non-null    object \n",
      " 8   Fare      891 non-null    float64\n",
      " 9   Cabin     204 non-null    object \n",
      " 10  Embarked  889 non-null    object \n",
      "dtypes: float64(2), int64(4), object(5)\n",
      "memory usage: 76.7+ KB\n"
     ]
    }
   ],
   "source": [
    "# Verificacion de cantidad de NaN en `df_copy`\n",
    "df_copy.info()"
   ]
  },
  {
   "cell_type": "markdown",
   "id": "a1980756",
   "metadata": {},
   "source": [
    "## Columna `Cabin`"
   ]
  },
  {
   "cell_type": "markdown",
   "id": "06bd50a5",
   "metadata": {},
   "source": [
    "### **Convertimos la columna `Cabin` en una variable binaria:**\n",
    "\n",
    "- **0** si el valor era faltante (no tenía cabina asignada)  \n",
    "- **1** si tenía un valor (sí tenía cabina asignada)\n",
    "\n",
    "Segun las `Acciones a realizar` **-índice-** en la fase exploratoria (EDA)\n",
    "[Ir a análisis exploratorio](./01_exploration.ipynb)"
   ]
  },
  {
   "cell_type": "markdown",
   "id": "333c76b3",
   "metadata": {},
   "source": [
    "**Generamos indice para los datos `NaN`**"
   ]
  },
  {
   "cell_type": "code",
   "execution_count": 15,
   "id": "a53aea96",
   "metadata": {},
   "outputs": [
    {
     "data": {
      "text/plain": [
       "[0,\n",
       " 2,\n",
       " 4,\n",
       " 5,\n",
       " 7,\n",
       " 8,\n",
       " 9,\n",
       " 12,\n",
       " 13,\n",
       " 14,\n",
       " 15,\n",
       " 16,\n",
       " 17,\n",
       " 18,\n",
       " 19,\n",
       " 20,\n",
       " 22,\n",
       " 24,\n",
       " 25,\n",
       " 26,\n",
       " 28,\n",
       " 29,\n",
       " 30,\n",
       " 32,\n",
       " 33,\n",
       " 34,\n",
       " 35,\n",
       " 36,\n",
       " 37,\n",
       " 38,\n",
       " 39,\n",
       " 40,\n",
       " 41,\n",
       " 42,\n",
       " 43,\n",
       " 44,\n",
       " 45,\n",
       " 46,\n",
       " 47,\n",
       " 48,\n",
       " 49,\n",
       " 50,\n",
       " 51,\n",
       " 53,\n",
       " 56,\n",
       " 57,\n",
       " 58,\n",
       " 59,\n",
       " 60,\n",
       " 63,\n",
       " 64,\n",
       " 65,\n",
       " 67,\n",
       " 68,\n",
       " 69,\n",
       " 70,\n",
       " 71,\n",
       " 72,\n",
       " 73,\n",
       " 74,\n",
       " 76,\n",
       " 77,\n",
       " 78,\n",
       " 79,\n",
       " 80,\n",
       " 81,\n",
       " 82,\n",
       " 83,\n",
       " 84,\n",
       " 85,\n",
       " 86,\n",
       " 87,\n",
       " 89,\n",
       " 90,\n",
       " 91,\n",
       " 93,\n",
       " 94,\n",
       " 95,\n",
       " 98,\n",
       " 99,\n",
       " 100,\n",
       " 101,\n",
       " 103,\n",
       " 104,\n",
       " 105,\n",
       " 106,\n",
       " 107,\n",
       " 108,\n",
       " 109,\n",
       " 111,\n",
       " 112,\n",
       " 113,\n",
       " 114,\n",
       " 115,\n",
       " 116,\n",
       " 117,\n",
       " 119,\n",
       " 120,\n",
       " 121,\n",
       " 122,\n",
       " 125,\n",
       " 126,\n",
       " 127,\n",
       " 129,\n",
       " 130,\n",
       " 131,\n",
       " 132,\n",
       " 133,\n",
       " 134,\n",
       " 135,\n",
       " 138,\n",
       " 140,\n",
       " 141,\n",
       " 142,\n",
       " 143,\n",
       " 144,\n",
       " 145,\n",
       " 146,\n",
       " 147,\n",
       " 149,\n",
       " 150,\n",
       " 152,\n",
       " 153,\n",
       " 154,\n",
       " 155,\n",
       " 156,\n",
       " 157,\n",
       " 158,\n",
       " 159,\n",
       " 160,\n",
       " 161,\n",
       " 162,\n",
       " 163,\n",
       " 164,\n",
       " 165,\n",
       " 167,\n",
       " 168,\n",
       " 169,\n",
       " 171,\n",
       " 172,\n",
       " 173,\n",
       " 175,\n",
       " 176,\n",
       " 178,\n",
       " 179,\n",
       " 180,\n",
       " 181,\n",
       " 182,\n",
       " 184,\n",
       " 186,\n",
       " 187,\n",
       " 188,\n",
       " 189,\n",
       " 190,\n",
       " 191,\n",
       " 192,\n",
       " 196,\n",
       " 197,\n",
       " 198,\n",
       " 199,\n",
       " 200,\n",
       " 201,\n",
       " 202,\n",
       " 203,\n",
       " 204,\n",
       " 206,\n",
       " 207,\n",
       " 208,\n",
       " 210,\n",
       " 211,\n",
       " 212,\n",
       " 213,\n",
       " 214,\n",
       " 216,\n",
       " 217,\n",
       " 219,\n",
       " 220,\n",
       " 221,\n",
       " 222,\n",
       " 223,\n",
       " 225,\n",
       " 226,\n",
       " 227,\n",
       " 228,\n",
       " 229,\n",
       " 231,\n",
       " 232,\n",
       " 233,\n",
       " 234,\n",
       " 235,\n",
       " 236,\n",
       " 237,\n",
       " 238,\n",
       " 239,\n",
       " 240,\n",
       " 241,\n",
       " 242,\n",
       " 243,\n",
       " 244,\n",
       " 246,\n",
       " 247,\n",
       " 249,\n",
       " 250,\n",
       " 253,\n",
       " 254,\n",
       " 255,\n",
       " 256,\n",
       " 258,\n",
       " 259,\n",
       " 260,\n",
       " 261,\n",
       " 264,\n",
       " 265,\n",
       " 266,\n",
       " 267,\n",
       " 270,\n",
       " 271,\n",
       " 272,\n",
       " 274,\n",
       " 276,\n",
       " 277,\n",
       " 278,\n",
       " 279,\n",
       " 280,\n",
       " 281,\n",
       " 282,\n",
       " 283,\n",
       " 285,\n",
       " 286,\n",
       " 287,\n",
       " 288,\n",
       " 289,\n",
       " 290,\n",
       " 293,\n",
       " 294,\n",
       " 295,\n",
       " 296,\n",
       " 300,\n",
       " 301,\n",
       " 302,\n",
       " 304,\n",
       " 306,\n",
       " 308,\n",
       " 312,\n",
       " 313,\n",
       " 314,\n",
       " 315,\n",
       " 316,\n",
       " 317,\n",
       " 320,\n",
       " 321,\n",
       " 322,\n",
       " 323,\n",
       " 324,\n",
       " 326,\n",
       " 328,\n",
       " 330,\n",
       " 333,\n",
       " 334,\n",
       " 335,\n",
       " 338,\n",
       " 342,\n",
       " 343,\n",
       " 344,\n",
       " 346,\n",
       " 347,\n",
       " 348,\n",
       " 349,\n",
       " 350,\n",
       " 352,\n",
       " 353,\n",
       " 354,\n",
       " 355,\n",
       " 357,\n",
       " 358,\n",
       " 359,\n",
       " 360,\n",
       " 361,\n",
       " 362,\n",
       " 363,\n",
       " 364,\n",
       " 365,\n",
       " 367,\n",
       " 368,\n",
       " 371,\n",
       " 372,\n",
       " 373,\n",
       " 374,\n",
       " 375,\n",
       " 376,\n",
       " 378,\n",
       " 379,\n",
       " 380,\n",
       " 381,\n",
       " 382,\n",
       " 383,\n",
       " 384,\n",
       " 385,\n",
       " 386,\n",
       " 387,\n",
       " 388,\n",
       " 389,\n",
       " 391,\n",
       " 392,\n",
       " 395,\n",
       " 396,\n",
       " 397,\n",
       " 398,\n",
       " 399,\n",
       " 400,\n",
       " 401,\n",
       " 402,\n",
       " 403,\n",
       " 404,\n",
       " 405,\n",
       " 406,\n",
       " 407,\n",
       " 408,\n",
       " 409,\n",
       " 410,\n",
       " 411,\n",
       " 413,\n",
       " 414,\n",
       " 415,\n",
       " 416,\n",
       " 417,\n",
       " 418,\n",
       " 419,\n",
       " 420,\n",
       " 421,\n",
       " 422,\n",
       " 423,\n",
       " 424,\n",
       " 425,\n",
       " 426,\n",
       " 427,\n",
       " 428,\n",
       " 431,\n",
       " 432,\n",
       " 433,\n",
       " 436,\n",
       " 437,\n",
       " 439,\n",
       " 440,\n",
       " 441,\n",
       " 442,\n",
       " 443,\n",
       " 444,\n",
       " 446,\n",
       " 447,\n",
       " 448,\n",
       " 450,\n",
       " 451,\n",
       " 454,\n",
       " 455,\n",
       " 458,\n",
       " 459,\n",
       " 461,\n",
       " 463,\n",
       " 464,\n",
       " 465,\n",
       " 466,\n",
       " 467,\n",
       " 468,\n",
       " 469,\n",
       " 470,\n",
       " 471,\n",
       " 472,\n",
       " 474,\n",
       " 476,\n",
       " 477,\n",
       " 478,\n",
       " 479,\n",
       " 480,\n",
       " 481,\n",
       " 482,\n",
       " 483,\n",
       " 485,\n",
       " 488,\n",
       " 489,\n",
       " 490,\n",
       " 491,\n",
       " 493,\n",
       " 494,\n",
       " 495,\n",
       " 497,\n",
       " 499,\n",
       " 500,\n",
       " 501,\n",
       " 502,\n",
       " 503,\n",
       " 506,\n",
       " 507,\n",
       " 508,\n",
       " 509,\n",
       " 510,\n",
       " 511,\n",
       " 513,\n",
       " 514,\n",
       " 517,\n",
       " 518,\n",
       " 519,\n",
       " 521,\n",
       " 522,\n",
       " 524,\n",
       " 525,\n",
       " 526,\n",
       " 528,\n",
       " 529,\n",
       " 530,\n",
       " 531,\n",
       " 532,\n",
       " 533,\n",
       " 534,\n",
       " 535,\n",
       " 537,\n",
       " 538,\n",
       " 541,\n",
       " 542,\n",
       " 543,\n",
       " 545,\n",
       " 546,\n",
       " 547,\n",
       " 548,\n",
       " 549,\n",
       " 551,\n",
       " 552,\n",
       " 553,\n",
       " 554,\n",
       " 555,\n",
       " 557,\n",
       " 559,\n",
       " 560,\n",
       " 561,\n",
       " 562,\n",
       " 563,\n",
       " 564,\n",
       " 565,\n",
       " 566,\n",
       " 567,\n",
       " 568,\n",
       " 569,\n",
       " 570,\n",
       " 573,\n",
       " 574,\n",
       " 575,\n",
       " 576,\n",
       " 578,\n",
       " 579,\n",
       " 580,\n",
       " 582,\n",
       " 584,\n",
       " 586,\n",
       " 588,\n",
       " 589,\n",
       " 590,\n",
       " 592,\n",
       " 593,\n",
       " 594,\n",
       " 595,\n",
       " 596,\n",
       " 597,\n",
       " 598,\n",
       " 600,\n",
       " 601,\n",
       " 602,\n",
       " 603,\n",
       " 604,\n",
       " 605,\n",
       " 606,\n",
       " 607,\n",
       " 608,\n",
       " 610,\n",
       " 611,\n",
       " 612,\n",
       " 613,\n",
       " 614,\n",
       " 615,\n",
       " 616,\n",
       " 617,\n",
       " 619,\n",
       " 620,\n",
       " 622,\n",
       " 623,\n",
       " 624,\n",
       " 626,\n",
       " 628,\n",
       " 629,\n",
       " 631,\n",
       " 633,\n",
       " 634,\n",
       " 635,\n",
       " 636,\n",
       " 637,\n",
       " 638,\n",
       " 639,\n",
       " 640,\n",
       " 642,\n",
       " 643,\n",
       " 644,\n",
       " 646,\n",
       " 648,\n",
       " 649,\n",
       " 650,\n",
       " 651,\n",
       " 652,\n",
       " 653,\n",
       " 654,\n",
       " 655,\n",
       " 656,\n",
       " 657,\n",
       " 658,\n",
       " 660,\n",
       " 661,\n",
       " 663,\n",
       " 664,\n",
       " 665,\n",
       " 666,\n",
       " 667,\n",
       " 668,\n",
       " 670,\n",
       " 672,\n",
       " 673,\n",
       " 674,\n",
       " 675,\n",
       " 676,\n",
       " 677,\n",
       " 678,\n",
       " 680,\n",
       " 682,\n",
       " 683,\n",
       " 684,\n",
       " 685,\n",
       " 686,\n",
       " 687,\n",
       " 688,\n",
       " 691,\n",
       " 692,\n",
       " 693,\n",
       " 694,\n",
       " 695,\n",
       " 696,\n",
       " 697,\n",
       " 702,\n",
       " 703,\n",
       " 704,\n",
       " 705,\n",
       " 706,\n",
       " 708,\n",
       " 709,\n",
       " 713,\n",
       " 714,\n",
       " 718,\n",
       " 719,\n",
       " 720,\n",
       " 721,\n",
       " 722,\n",
       " 723,\n",
       " 725,\n",
       " 726,\n",
       " 727,\n",
       " 728,\n",
       " 729,\n",
       " 731,\n",
       " 732,\n",
       " 733,\n",
       " 734,\n",
       " 735,\n",
       " 736,\n",
       " 738,\n",
       " 739,\n",
       " 743,\n",
       " 744,\n",
       " 746,\n",
       " 747,\n",
       " 749,\n",
       " 750,\n",
       " 752,\n",
       " 753,\n",
       " 754,\n",
       " 755,\n",
       " 756,\n",
       " 757,\n",
       " 758,\n",
       " 760,\n",
       " 761,\n",
       " 762,\n",
       " 764,\n",
       " 766,\n",
       " 767,\n",
       " 768,\n",
       " 769,\n",
       " 770,\n",
       " 771,\n",
       " 773,\n",
       " 774,\n",
       " 775,\n",
       " 777,\n",
       " 778,\n",
       " 780,\n",
       " 783,\n",
       " 784,\n",
       " 785,\n",
       " 786,\n",
       " 787,\n",
       " 788,\n",
       " 790,\n",
       " 791,\n",
       " 792,\n",
       " 793,\n",
       " 794,\n",
       " 795,\n",
       " 797,\n",
       " 798,\n",
       " 799,\n",
       " 800,\n",
       " 801,\n",
       " 803,\n",
       " 804,\n",
       " 805,\n",
       " 807,\n",
       " 808,\n",
       " 810,\n",
       " 811,\n",
       " 812,\n",
       " 813,\n",
       " 814,\n",
       " 816,\n",
       " 817,\n",
       " 818,\n",
       " 819,\n",
       " 821,\n",
       " 822,\n",
       " 824,\n",
       " 825,\n",
       " 826,\n",
       " 827,\n",
       " 828,\n",
       " 830,\n",
       " 831,\n",
       " 832,\n",
       " 833,\n",
       " 834,\n",
       " 836,\n",
       " 837,\n",
       " 838,\n",
       " 840,\n",
       " 841,\n",
       " 842,\n",
       " 843,\n",
       " 844,\n",
       " 845,\n",
       " 846,\n",
       " 847,\n",
       " 848,\n",
       " 850,\n",
       " 851,\n",
       " 852,\n",
       " 854,\n",
       " 855,\n",
       " 856,\n",
       " 858,\n",
       " 859,\n",
       " 860,\n",
       " 861,\n",
       " 863,\n",
       " 864,\n",
       " 865,\n",
       " 866,\n",
       " 868,\n",
       " 869,\n",
       " 870,\n",
       " 873,\n",
       " 874,\n",
       " 875,\n",
       " 876,\n",
       " 877,\n",
       " 878,\n",
       " 880,\n",
       " 881,\n",
       " 882,\n",
       " 883,\n",
       " 884,\n",
       " 885,\n",
       " 886,\n",
       " 888,\n",
       " 890]"
      ]
     },
     "execution_count": 15,
     "metadata": {},
     "output_type": "execute_result"
    }
   ],
   "source": [
    "# Guarda en la variable los índices de todas las filas donde la columna `Cabin` tiene valores faltantes.\n",
    "indice_cabin_nan = list(df_copy.loc[df_copy['Cabin'].isnull(),['Cabin']].index)\n",
    "indice_cabin_nan"
   ]
  },
  {
   "cell_type": "markdown",
   "id": "b98ff390",
   "metadata": {},
   "source": [
    "**Generamos indice para los datos `noNaN`**"
   ]
  },
  {
   "cell_type": "code",
   "execution_count": 16,
   "id": "110ec995",
   "metadata": {},
   "outputs": [
    {
     "data": {
      "text/plain": [
       "[1,\n",
       " 3,\n",
       " 6,\n",
       " 10,\n",
       " 11,\n",
       " 21,\n",
       " 23,\n",
       " 27,\n",
       " 31,\n",
       " 52,\n",
       " 54,\n",
       " 55,\n",
       " 61,\n",
       " 62,\n",
       " 66,\n",
       " 75,\n",
       " 88,\n",
       " 92,\n",
       " 96,\n",
       " 97,\n",
       " 102,\n",
       " 110,\n",
       " 118,\n",
       " 123,\n",
       " 124,\n",
       " 128,\n",
       " 136,\n",
       " 137,\n",
       " 139,\n",
       " 148,\n",
       " 151,\n",
       " 166,\n",
       " 170,\n",
       " 174,\n",
       " 177,\n",
       " 183,\n",
       " 185,\n",
       " 193,\n",
       " 194,\n",
       " 195,\n",
       " 205,\n",
       " 209,\n",
       " 215,\n",
       " 218,\n",
       " 224,\n",
       " 230,\n",
       " 245,\n",
       " 248,\n",
       " 251,\n",
       " 252,\n",
       " 257,\n",
       " 262,\n",
       " 263,\n",
       " 268,\n",
       " 269,\n",
       " 273,\n",
       " 275,\n",
       " 284,\n",
       " 291,\n",
       " 292,\n",
       " 297,\n",
       " 298,\n",
       " 299,\n",
       " 303,\n",
       " 305,\n",
       " 307,\n",
       " 309,\n",
       " 310,\n",
       " 311,\n",
       " 318,\n",
       " 319,\n",
       " 325,\n",
       " 327,\n",
       " 329,\n",
       " 331,\n",
       " 332,\n",
       " 336,\n",
       " 337,\n",
       " 339,\n",
       " 340,\n",
       " 341,\n",
       " 345,\n",
       " 351,\n",
       " 356,\n",
       " 366,\n",
       " 369,\n",
       " 370,\n",
       " 377,\n",
       " 390,\n",
       " 393,\n",
       " 394,\n",
       " 412,\n",
       " 429,\n",
       " 430,\n",
       " 434,\n",
       " 435,\n",
       " 438,\n",
       " 445,\n",
       " 449,\n",
       " 452,\n",
       " 453,\n",
       " 456,\n",
       " 457,\n",
       " 460,\n",
       " 462,\n",
       " 473,\n",
       " 475,\n",
       " 484,\n",
       " 486,\n",
       " 487,\n",
       " 492,\n",
       " 496,\n",
       " 498,\n",
       " 504,\n",
       " 505,\n",
       " 512,\n",
       " 515,\n",
       " 516,\n",
       " 520,\n",
       " 523,\n",
       " 527,\n",
       " 536,\n",
       " 539,\n",
       " 540,\n",
       " 544,\n",
       " 550,\n",
       " 556,\n",
       " 558,\n",
       " 571,\n",
       " 572,\n",
       " 577,\n",
       " 581,\n",
       " 583,\n",
       " 585,\n",
       " 587,\n",
       " 591,\n",
       " 599,\n",
       " 609,\n",
       " 618,\n",
       " 621,\n",
       " 625,\n",
       " 627,\n",
       " 630,\n",
       " 632,\n",
       " 641,\n",
       " 645,\n",
       " 647,\n",
       " 659,\n",
       " 662,\n",
       " 669,\n",
       " 671,\n",
       " 679,\n",
       " 681,\n",
       " 689,\n",
       " 690,\n",
       " 698,\n",
       " 699,\n",
       " 700,\n",
       " 701,\n",
       " 707,\n",
       " 710,\n",
       " 711,\n",
       " 712,\n",
       " 715,\n",
       " 716,\n",
       " 717,\n",
       " 724,\n",
       " 730,\n",
       " 737,\n",
       " 740,\n",
       " 741,\n",
       " 742,\n",
       " 745,\n",
       " 748,\n",
       " 751,\n",
       " 759,\n",
       " 763,\n",
       " 765,\n",
       " 772,\n",
       " 776,\n",
       " 779,\n",
       " 781,\n",
       " 782,\n",
       " 789,\n",
       " 796,\n",
       " 802,\n",
       " 806,\n",
       " 809,\n",
       " 815,\n",
       " 820,\n",
       " 823,\n",
       " 829,\n",
       " 835,\n",
       " 839,\n",
       " 849,\n",
       " 853,\n",
       " 857,\n",
       " 862,\n",
       " 867,\n",
       " 871,\n",
       " 872,\n",
       " 879,\n",
       " 887,\n",
       " 889]"
      ]
     },
     "execution_count": 16,
     "metadata": {},
     "output_type": "execute_result"
    }
   ],
   "source": [
    "# Guarda en la variable los índices de todas las filas donde la columna `Cabin` tiene valores no NaN.\n",
    "indice_cabin_nonan = list(df_copy.loc[df_copy['Cabin'].notnull(),['Cabin']].index)\n",
    "indice_cabin_nonan"
   ]
  },
  {
   "cell_type": "markdown",
   "id": "6133964d",
   "metadata": {},
   "source": [
    "**Convertimos la columna `Cabin` en una variable binaria:**\n",
    "\n",
    "- **0** si el valor era faltante (no tenía cabina asignada)  \n",
    "- **1** si tenía un valor (sí tenía cabina asignada)"
   ]
  },
  {
   "cell_type": "markdown",
   "id": "00552ab8",
   "metadata": {},
   "source": [
    "Asigna el valor **0** a la columna `Cabin` en todas las filas de `df_copy` cuyos índices están en la lista `indice_cabin_nan`, es decir, donde el valor de `Cabin` **es NaN** (faltante)."
   ]
  },
  {
   "cell_type": "code",
   "execution_count": 17,
   "id": "b491c85c",
   "metadata": {},
   "outputs": [],
   "source": [
    "df_copy.loc[indice_cabin_nan,['Cabin']] = 0"
   ]
  },
  {
   "cell_type": "markdown",
   "id": "47698ce2",
   "metadata": {},
   "source": [
    "Asigna el valor **1** a la columna `Cabin` en todas las filas de `df_copy` cuyos índices están en la lista `indice_cabin_nonan`, es decir, donde el valor de `Cabin` **no es NaN** (no faltante).  "
   ]
  },
  {
   "cell_type": "code",
   "execution_count": 18,
   "id": "dd84d41a",
   "metadata": {},
   "outputs": [],
   "source": [
    "df_copy.loc[indice_cabin_nonan,['Cabin']] = 1"
   ]
  },
  {
   "cell_type": "markdown",
   "id": "f9c924c7",
   "metadata": {},
   "source": [
    "### **Comprobacion de proporciones correctas**"
   ]
  },
  {
   "cell_type": "code",
   "execution_count": 19,
   "id": "4cf7a6bb",
   "metadata": {},
   "outputs": [
    {
     "data": {
      "application/vnd.microsoft.datawrangler.viewer.v0+json": {
       "columns": [
        {
         "name": "index",
         "rawType": "int64",
         "type": "integer"
        },
        {
         "name": "Survived",
         "rawType": "int64",
         "type": "integer"
        },
        {
         "name": "Cabin",
         "rawType": "object",
         "type": "unknown"
        }
       ],
       "ref": "aa5df9a3-b34f-4314-b40d-0cfa7f57e384",
       "rows": [
        [
         "0",
         "0",
         "0"
        ],
        [
         "2",
         "1",
         "0"
        ],
        [
         "4",
         "0",
         "0"
        ],
        [
         "5",
         "0",
         "0"
        ],
        [
         "7",
         "0",
         "0"
        ],
        [
         "8",
         "1",
         "0"
        ],
        [
         "9",
         "1",
         "0"
        ],
        [
         "12",
         "0",
         "0"
        ],
        [
         "13",
         "0",
         "0"
        ],
        [
         "14",
         "0",
         "0"
        ],
        [
         "15",
         "1",
         "0"
        ],
        [
         "16",
         "0",
         "0"
        ],
        [
         "17",
         "1",
         "0"
        ],
        [
         "18",
         "0",
         "0"
        ],
        [
         "19",
         "1",
         "0"
        ],
        [
         "20",
         "0",
         "0"
        ],
        [
         "22",
         "1",
         "0"
        ],
        [
         "24",
         "0",
         "0"
        ],
        [
         "25",
         "1",
         "0"
        ],
        [
         "26",
         "0",
         "0"
        ],
        [
         "28",
         "1",
         "0"
        ],
        [
         "29",
         "0",
         "0"
        ],
        [
         "30",
         "0",
         "0"
        ],
        [
         "32",
         "1",
         "0"
        ],
        [
         "33",
         "0",
         "0"
        ],
        [
         "34",
         "0",
         "0"
        ],
        [
         "35",
         "0",
         "0"
        ],
        [
         "36",
         "1",
         "0"
        ],
        [
         "37",
         "0",
         "0"
        ],
        [
         "38",
         "0",
         "0"
        ],
        [
         "39",
         "1",
         "0"
        ],
        [
         "40",
         "0",
         "0"
        ],
        [
         "41",
         "0",
         "0"
        ],
        [
         "42",
         "0",
         "0"
        ],
        [
         "43",
         "1",
         "0"
        ],
        [
         "44",
         "1",
         "0"
        ],
        [
         "45",
         "0",
         "0"
        ],
        [
         "46",
         "0",
         "0"
        ],
        [
         "47",
         "1",
         "0"
        ],
        [
         "48",
         "0",
         "0"
        ],
        [
         "49",
         "0",
         "0"
        ],
        [
         "50",
         "0",
         "0"
        ],
        [
         "51",
         "0",
         "0"
        ],
        [
         "53",
         "1",
         "0"
        ],
        [
         "56",
         "1",
         "0"
        ],
        [
         "57",
         "0",
         "0"
        ],
        [
         "58",
         "1",
         "0"
        ],
        [
         "59",
         "0",
         "0"
        ],
        [
         "60",
         "0",
         "0"
        ],
        [
         "63",
         "0",
         "0"
        ]
       ],
       "shape": {
        "columns": 2,
        "rows": 687
       }
      },
      "text/html": [
       "<div>\n",
       "<style scoped>\n",
       "    .dataframe tbody tr th:only-of-type {\n",
       "        vertical-align: middle;\n",
       "    }\n",
       "\n",
       "    .dataframe tbody tr th {\n",
       "        vertical-align: top;\n",
       "    }\n",
       "\n",
       "    .dataframe thead th {\n",
       "        text-align: right;\n",
       "    }\n",
       "</style>\n",
       "<table border=\"1\" class=\"dataframe\">\n",
       "  <thead>\n",
       "    <tr style=\"text-align: right;\">\n",
       "      <th></th>\n",
       "      <th>Survived</th>\n",
       "      <th>Cabin</th>\n",
       "    </tr>\n",
       "  </thead>\n",
       "  <tbody>\n",
       "    <tr>\n",
       "      <th>0</th>\n",
       "      <td>0</td>\n",
       "      <td>0</td>\n",
       "    </tr>\n",
       "    <tr>\n",
       "      <th>2</th>\n",
       "      <td>1</td>\n",
       "      <td>0</td>\n",
       "    </tr>\n",
       "    <tr>\n",
       "      <th>4</th>\n",
       "      <td>0</td>\n",
       "      <td>0</td>\n",
       "    </tr>\n",
       "    <tr>\n",
       "      <th>5</th>\n",
       "      <td>0</td>\n",
       "      <td>0</td>\n",
       "    </tr>\n",
       "    <tr>\n",
       "      <th>7</th>\n",
       "      <td>0</td>\n",
       "      <td>0</td>\n",
       "    </tr>\n",
       "    <tr>\n",
       "      <th>...</th>\n",
       "      <td>...</td>\n",
       "      <td>...</td>\n",
       "    </tr>\n",
       "    <tr>\n",
       "      <th>884</th>\n",
       "      <td>0</td>\n",
       "      <td>0</td>\n",
       "    </tr>\n",
       "    <tr>\n",
       "      <th>885</th>\n",
       "      <td>0</td>\n",
       "      <td>0</td>\n",
       "    </tr>\n",
       "    <tr>\n",
       "      <th>886</th>\n",
       "      <td>0</td>\n",
       "      <td>0</td>\n",
       "    </tr>\n",
       "    <tr>\n",
       "      <th>888</th>\n",
       "      <td>0</td>\n",
       "      <td>0</td>\n",
       "    </tr>\n",
       "    <tr>\n",
       "      <th>890</th>\n",
       "      <td>0</td>\n",
       "      <td>0</td>\n",
       "    </tr>\n",
       "  </tbody>\n",
       "</table>\n",
       "<p>687 rows × 2 columns</p>\n",
       "</div>"
      ],
      "text/plain": [
       "     Survived Cabin\n",
       "0           0     0\n",
       "2           1     0\n",
       "4           0     0\n",
       "5           0     0\n",
       "7           0     0\n",
       "..        ...   ...\n",
       "884         0     0\n",
       "885         0     0\n",
       "886         0     0\n",
       "888         0     0\n",
       "890         0     0\n",
       "\n",
       "[687 rows x 2 columns]"
      ]
     },
     "execution_count": 19,
     "metadata": {},
     "output_type": "execute_result"
    }
   ],
   "source": [
    "# Verificacion\n",
    "df_copy.loc[indice_cabin_nan,['Survived', 'Cabin']]"
   ]
  },
  {
   "cell_type": "code",
   "execution_count": 20,
   "id": "0dafb5d1",
   "metadata": {},
   "outputs": [
    {
     "data": {
      "application/vnd.microsoft.datawrangler.viewer.v0+json": {
       "columns": [
        {
         "name": "Cabin",
         "rawType": "object",
         "type": "unknown"
        },
        {
         "name": "count",
         "rawType": "int64",
         "type": "integer"
        }
       ],
       "ref": "b2833484-981d-4ece-9777-8c26edb4783d",
       "rows": [
        [
         "0",
         "687"
        ],
        [
         "1",
         "204"
        ]
       ],
       "shape": {
        "columns": 1,
        "rows": 2
       }
      },
      "text/plain": [
       "Cabin\n",
       "0    687\n",
       "1    204\n",
       "Name: count, dtype: int64"
      ]
     },
     "execution_count": 20,
     "metadata": {},
     "output_type": "execute_result"
    }
   ],
   "source": [
    "# Visualizacion de proporcion de 0 y 1\n",
    "df_copy['Cabin'].value_counts()"
   ]
  },
  {
   "cell_type": "markdown",
   "id": "c8fe2272",
   "metadata": {},
   "source": [
    "### Creacion Columna Cabin_missing"
   ]
  },
  {
   "cell_type": "code",
   "execution_count": 21,
   "id": "98117093",
   "metadata": {},
   "outputs": [],
   "source": [
    "df_copy['Cabin_missing'] = df_copy['Cabin']"
   ]
  },
  {
   "cell_type": "markdown",
   "id": "36ad4f6f",
   "metadata": {},
   "source": [
    "Eliminamos del Dataframe `df_copy` la columna `Cabin`"
   ]
  },
  {
   "cell_type": "code",
   "execution_count": 22,
   "id": "142f739b",
   "metadata": {},
   "outputs": [],
   "source": [
    "df_copy.drop('Cabin', axis=1, inplace=True)"
   ]
  },
  {
   "cell_type": "markdown",
   "id": "afdf8d10",
   "metadata": {},
   "source": [
    "Cambio tipo de variable de Object a `Int`"
   ]
  },
  {
   "cell_type": "code",
   "execution_count": 23,
   "id": "7495c144",
   "metadata": {},
   "outputs": [],
   "source": [
    "df_copy['Cabin_missing'] = df_copy['Cabin_missing'].astype('Int64')"
   ]
  },
  {
   "cell_type": "markdown",
   "id": "8a6d93b7",
   "metadata": {},
   "source": [
    "## Columna Embarked"
   ]
  },
  {
   "cell_type": "markdown",
   "id": "8052f39d",
   "metadata": {},
   "source": [
    "Asigna el valor **S** a las dos filas de `Embarked` segun las `Acciones a realizar` en la fase exploratoria (EDA)\n",
    "[Ir a análisis exploratorio](./01_exploration.ipynb)"
   ]
  },
  {
   "cell_type": "code",
   "execution_count": 24,
   "id": "a133ce92",
   "metadata": {},
   "outputs": [],
   "source": [
    "df_copy.loc[[61, 829],['Embarked']] = 'S'"
   ]
  },
  {
   "cell_type": "code",
   "execution_count": 25,
   "id": "b8478a86",
   "metadata": {},
   "outputs": [
    {
     "name": "stdout",
     "output_type": "stream",
     "text": [
      "<class 'pandas.core.frame.DataFrame'>\n",
      "RangeIndex: 891 entries, 0 to 890\n",
      "Data columns (total 11 columns):\n",
      " #   Column         Non-Null Count  Dtype  \n",
      "---  ------         --------------  -----  \n",
      " 0   Survived       891 non-null    int64  \n",
      " 1   Pclass         891 non-null    int64  \n",
      " 2   Name           891 non-null    object \n",
      " 3   Sex            891 non-null    object \n",
      " 4   Age            891 non-null    float64\n",
      " 5   SibSp          891 non-null    int64  \n",
      " 6   Parch          891 non-null    int64  \n",
      " 7   Ticket         891 non-null    object \n",
      " 8   Fare           891 non-null    float64\n",
      " 9   Embarked       891 non-null    object \n",
      " 10  Cabin_missing  891 non-null    Int64  \n",
      "dtypes: Int64(1), float64(2), int64(4), object(4)\n",
      "memory usage: 77.6+ KB\n"
     ]
    }
   ],
   "source": [
    "df_copy.info()"
   ]
  },
  {
   "cell_type": "markdown",
   "id": "b25190b8",
   "metadata": {},
   "source": [
    "## Columna `Sex`"
   ]
  },
  {
   "cell_type": "markdown",
   "id": "4266b400",
   "metadata": {},
   "source": [
    "Convertir los datos binarios tipo string de la columna Sex a valores numéricos para el modelado de datos<br>\n",
    "    ```\n",
    "    male → 0  ~  female → 1\n",
    "    ```\n",
    "\n",
    "Esto segun las `Acciones a realizar` en la fase exploratoria (EDA)\n",
    "[Ir a análisis exploratorio](./01_exploration.ipynb) "
   ]
  },
  {
   "cell_type": "code",
   "execution_count": 26,
   "id": "1f8c4e68",
   "metadata": {},
   "outputs": [],
   "source": [
    "map_sexo = {'male': 0, 'female':1}\n",
    "df_copy['Sex'] = df_copy['Sex'].map(map_sexo)"
   ]
  },
  {
   "cell_type": "code",
   "execution_count": 27,
   "id": "5a74606a",
   "metadata": {},
   "outputs": [
    {
     "name": "stdout",
     "output_type": "stream",
     "text": [
      "<class 'pandas.core.frame.DataFrame'>\n",
      "RangeIndex: 891 entries, 0 to 890\n",
      "Data columns (total 11 columns):\n",
      " #   Column         Non-Null Count  Dtype  \n",
      "---  ------         --------------  -----  \n",
      " 0   Survived       891 non-null    int64  \n",
      " 1   Pclass         891 non-null    int64  \n",
      " 2   Name           891 non-null    object \n",
      " 3   Sex            891 non-null    int64  \n",
      " 4   Age            891 non-null    float64\n",
      " 5   SibSp          891 non-null    int64  \n",
      " 6   Parch          891 non-null    int64  \n",
      " 7   Ticket         891 non-null    object \n",
      " 8   Fare           891 non-null    float64\n",
      " 9   Embarked       891 non-null    object \n",
      " 10  Cabin_missing  891 non-null    Int64  \n",
      "dtypes: Int64(1), float64(2), int64(5), object(3)\n",
      "memory usage: 77.6+ KB\n"
     ]
    },
    {
     "data": {
      "application/vnd.microsoft.datawrangler.viewer.v0+json": {
       "columns": [
        {
         "name": "index",
         "rawType": "int64",
         "type": "integer"
        },
        {
         "name": "Survived",
         "rawType": "int64",
         "type": "integer"
        },
        {
         "name": "Pclass",
         "rawType": "int64",
         "type": "integer"
        },
        {
         "name": "Name",
         "rawType": "object",
         "type": "string"
        },
        {
         "name": "Sex",
         "rawType": "int64",
         "type": "integer"
        },
        {
         "name": "Age",
         "rawType": "float64",
         "type": "float"
        },
        {
         "name": "SibSp",
         "rawType": "int64",
         "type": "integer"
        },
        {
         "name": "Parch",
         "rawType": "int64",
         "type": "integer"
        },
        {
         "name": "Ticket",
         "rawType": "object",
         "type": "string"
        },
        {
         "name": "Fare",
         "rawType": "float64",
         "type": "float"
        },
        {
         "name": "Embarked",
         "rawType": "object",
         "type": "string"
        },
        {
         "name": "Cabin_missing",
         "rawType": "Int64",
         "type": "integer"
        }
       ],
       "ref": "ca066f61-25ad-48d6-b7eb-49c78c8b523e",
       "rows": [
        [
         "744",
         "1",
         "3",
         "Stranden, Mr. Juho",
         "0",
         "31.0",
         "0",
         "0",
         "STON/O 2. 3101288",
         "7.925",
         "S",
         "0"
        ],
        [
         "51",
         "0",
         "3",
         "Nosworthy, Mr. Richard Cater",
         "0",
         "21.0",
         "0",
         "0",
         "A/4. 39886",
         "7.8",
         "S",
         "0"
        ],
        [
         "562",
         "0",
         "2",
         "Norman, Mr. Robert Douglas",
         "0",
         "28.0",
         "0",
         "0",
         "218629",
         "13.5",
         "S",
         "0"
        ],
        [
         "577",
         "1",
         "1",
         "Silvey, Mrs. William Baird (Alice Munger)",
         "1",
         "39.0",
         "1",
         "0",
         "13507",
         "55.9",
         "S",
         "1"
        ],
        [
         "124",
         "0",
         "1",
         "White, Mr. Percival Wayland",
         "0",
         "54.0",
         "0",
         "1",
         "35281",
         "77.2875",
         "S",
         "1"
        ]
       ],
       "shape": {
        "columns": 11,
        "rows": 5
       }
      },
      "text/html": [
       "<div>\n",
       "<style scoped>\n",
       "    .dataframe tbody tr th:only-of-type {\n",
       "        vertical-align: middle;\n",
       "    }\n",
       "\n",
       "    .dataframe tbody tr th {\n",
       "        vertical-align: top;\n",
       "    }\n",
       "\n",
       "    .dataframe thead th {\n",
       "        text-align: right;\n",
       "    }\n",
       "</style>\n",
       "<table border=\"1\" class=\"dataframe\">\n",
       "  <thead>\n",
       "    <tr style=\"text-align: right;\">\n",
       "      <th></th>\n",
       "      <th>Survived</th>\n",
       "      <th>Pclass</th>\n",
       "      <th>Name</th>\n",
       "      <th>Sex</th>\n",
       "      <th>Age</th>\n",
       "      <th>SibSp</th>\n",
       "      <th>Parch</th>\n",
       "      <th>Ticket</th>\n",
       "      <th>Fare</th>\n",
       "      <th>Embarked</th>\n",
       "      <th>Cabin_missing</th>\n",
       "    </tr>\n",
       "  </thead>\n",
       "  <tbody>\n",
       "    <tr>\n",
       "      <th>744</th>\n",
       "      <td>1</td>\n",
       "      <td>3</td>\n",
       "      <td>Stranden, Mr. Juho</td>\n",
       "      <td>0</td>\n",
       "      <td>31.0</td>\n",
       "      <td>0</td>\n",
       "      <td>0</td>\n",
       "      <td>STON/O 2. 3101288</td>\n",
       "      <td>7.9250</td>\n",
       "      <td>S</td>\n",
       "      <td>0</td>\n",
       "    </tr>\n",
       "    <tr>\n",
       "      <th>51</th>\n",
       "      <td>0</td>\n",
       "      <td>3</td>\n",
       "      <td>Nosworthy, Mr. Richard Cater</td>\n",
       "      <td>0</td>\n",
       "      <td>21.0</td>\n",
       "      <td>0</td>\n",
       "      <td>0</td>\n",
       "      <td>A/4. 39886</td>\n",
       "      <td>7.8000</td>\n",
       "      <td>S</td>\n",
       "      <td>0</td>\n",
       "    </tr>\n",
       "    <tr>\n",
       "      <th>562</th>\n",
       "      <td>0</td>\n",
       "      <td>2</td>\n",
       "      <td>Norman, Mr. Robert Douglas</td>\n",
       "      <td>0</td>\n",
       "      <td>28.0</td>\n",
       "      <td>0</td>\n",
       "      <td>0</td>\n",
       "      <td>218629</td>\n",
       "      <td>13.5000</td>\n",
       "      <td>S</td>\n",
       "      <td>0</td>\n",
       "    </tr>\n",
       "    <tr>\n",
       "      <th>577</th>\n",
       "      <td>1</td>\n",
       "      <td>1</td>\n",
       "      <td>Silvey, Mrs. William Baird (Alice Munger)</td>\n",
       "      <td>1</td>\n",
       "      <td>39.0</td>\n",
       "      <td>1</td>\n",
       "      <td>0</td>\n",
       "      <td>13507</td>\n",
       "      <td>55.9000</td>\n",
       "      <td>S</td>\n",
       "      <td>1</td>\n",
       "    </tr>\n",
       "    <tr>\n",
       "      <th>124</th>\n",
       "      <td>0</td>\n",
       "      <td>1</td>\n",
       "      <td>White, Mr. Percival Wayland</td>\n",
       "      <td>0</td>\n",
       "      <td>54.0</td>\n",
       "      <td>0</td>\n",
       "      <td>1</td>\n",
       "      <td>35281</td>\n",
       "      <td>77.2875</td>\n",
       "      <td>S</td>\n",
       "      <td>1</td>\n",
       "    </tr>\n",
       "  </tbody>\n",
       "</table>\n",
       "</div>"
      ],
      "text/plain": [
       "     Survived  Pclass                                       Name  Sex   Age  \\\n",
       "744         1       3                         Stranden, Mr. Juho    0  31.0   \n",
       "51          0       3               Nosworthy, Mr. Richard Cater    0  21.0   \n",
       "562         0       2                 Norman, Mr. Robert Douglas    0  28.0   \n",
       "577         1       1  Silvey, Mrs. William Baird (Alice Munger)    1  39.0   \n",
       "124         0       1                White, Mr. Percival Wayland    0  54.0   \n",
       "\n",
       "     SibSp  Parch             Ticket     Fare Embarked  Cabin_missing  \n",
       "744      0      0  STON/O 2. 3101288   7.9250        S              0  \n",
       "51       0      0         A/4. 39886   7.8000        S              0  \n",
       "562      0      0             218629  13.5000        S              0  \n",
       "577      1      0              13507  55.9000        S              1  \n",
       "124      0      1              35281  77.2875        S              1  "
      ]
     },
     "execution_count": 27,
     "metadata": {},
     "output_type": "execute_result"
    }
   ],
   "source": [
    "# Verificacion\n",
    "df_copy.info()\n",
    "df_copy.sample(5)"
   ]
  },
  {
   "cell_type": "markdown",
   "id": "c32a2d9d",
   "metadata": {},
   "source": [
    "# One hot Encoding"
   ]
  },
  {
   "cell_type": "markdown",
   "id": "44088e55",
   "metadata": {},
   "source": [
    "## Columna Embarked"
   ]
  },
  {
   "cell_type": "markdown",
   "id": "b07db3b2",
   "metadata": {},
   "source": [
    "Tranformar los datos categoricos de la columna mediante **One hot encoding** a valores binarios para el modelado de datos<br>\n",
    "    ```\n",
    "    'S', 'C' y 'Q'\n",
    "    ```\n",
    "\n",
    "Esto segun las `Acciones a realizar` en la fase exploratoria (EDA)\n",
    "[Ir a análisis exploratorio](./01_exploration.ipynb) "
   ]
  },
  {
   "cell_type": "code",
   "execution_count": null,
   "id": "31aed038",
   "metadata": {},
   "outputs": [],
   "source": [
    "# Aplica one hot encoding a la columna 'Embarked', creando columnas binarias (0 y 1) para cada clase \n",
    "# y las agrega al DataFrame df_copy\n",
    "df_copy = pd.get_dummies(df_copy, columns=['Embarked'], dtype=int)"
   ]
  },
  {
   "cell_type": "markdown",
   "id": "8ca0074e",
   "metadata": {},
   "source": [
    "## Columna `Pclass`"
   ]
  },
  {
   "cell_type": "markdown",
   "id": "98ff7c30",
   "metadata": {},
   "source": [
    "Tranformar los datos categoricos de la columna mediante **One hot encoding** a valores binarios para el modelado de datos<br>\n",
    "    ```\n",
    "    '1', '2' y '3'\n",
    "    ```\n",
    "\n",
    "Esto segun las `Acciones a realizar` en la fase exploratoria (EDA)\n",
    "[Ir a análisis exploratorio](./01_exploration.ipynb) "
   ]
  },
  {
   "cell_type": "code",
   "execution_count": null,
   "id": "9483d467",
   "metadata": {},
   "outputs": [],
   "source": [
    "# Aplica one hot encoding a la columna 'Pclass', creando columnas binarias (0 y 1) para cada clase \n",
    "# y las agrega al DataFrame df_copy\n",
    "df_copy = pd.get_dummies(df_copy, columns=['Pclass'], dtype=int) # Confirmar el tipo de salida con `dtype`"
   ]
  },
  {
   "cell_type": "markdown",
   "id": "7826ec20",
   "metadata": {},
   "source": [
    "# Verificacion"
   ]
  },
  {
   "cell_type": "code",
   "execution_count": 35,
   "id": "c59341e6",
   "metadata": {},
   "outputs": [
    {
     "name": "stdout",
     "output_type": "stream",
     "text": [
      "<class 'pandas.core.frame.DataFrame'>\n",
      "RangeIndex: 891 entries, 0 to 890\n",
      "Data columns (total 15 columns):\n",
      " #   Column         Non-Null Count  Dtype  \n",
      "---  ------         --------------  -----  \n",
      " 0   Survived       891 non-null    int64  \n",
      " 1   Name           891 non-null    object \n",
      " 2   Sex            891 non-null    int64  \n",
      " 3   Age            891 non-null    float64\n",
      " 4   SibSp          891 non-null    int64  \n",
      " 5   Parch          891 non-null    int64  \n",
      " 6   Ticket         891 non-null    object \n",
      " 7   Fare           891 non-null    float64\n",
      " 8   Cabin_missing  891 non-null    Int64  \n",
      " 9   Pclass_1       891 non-null    int64  \n",
      " 10  Pclass_2       891 non-null    int64  \n",
      " 11  Pclass_3       891 non-null    int64  \n",
      " 12  Embarked_C     891 non-null    int64  \n",
      " 13  Embarked_Q     891 non-null    int64  \n",
      " 14  Embarked_S     891 non-null    int64  \n",
      "dtypes: Int64(1), float64(2), int64(10), object(2)\n",
      "memory usage: 105.4+ KB\n"
     ]
    },
    {
     "data": {
      "application/vnd.microsoft.datawrangler.viewer.v0+json": {
       "columns": [
        {
         "name": "index",
         "rawType": "int64",
         "type": "integer"
        },
        {
         "name": "Survived",
         "rawType": "int64",
         "type": "integer"
        },
        {
         "name": "Name",
         "rawType": "object",
         "type": "string"
        },
        {
         "name": "Sex",
         "rawType": "int64",
         "type": "integer"
        },
        {
         "name": "Age",
         "rawType": "float64",
         "type": "float"
        },
        {
         "name": "SibSp",
         "rawType": "int64",
         "type": "integer"
        },
        {
         "name": "Parch",
         "rawType": "int64",
         "type": "integer"
        },
        {
         "name": "Ticket",
         "rawType": "object",
         "type": "string"
        },
        {
         "name": "Fare",
         "rawType": "float64",
         "type": "float"
        },
        {
         "name": "Cabin_missing",
         "rawType": "Int64",
         "type": "integer"
        },
        {
         "name": "Pclass_1",
         "rawType": "int64",
         "type": "integer"
        },
        {
         "name": "Pclass_2",
         "rawType": "int64",
         "type": "integer"
        },
        {
         "name": "Pclass_3",
         "rawType": "int64",
         "type": "integer"
        },
        {
         "name": "Embarked_C",
         "rawType": "int64",
         "type": "integer"
        },
        {
         "name": "Embarked_Q",
         "rawType": "int64",
         "type": "integer"
        },
        {
         "name": "Embarked_S",
         "rawType": "int64",
         "type": "integer"
        }
       ],
       "ref": "dd25c832-78d1-47f4-9085-ffbaf45dfdd5",
       "rows": [
        [
         "378",
         "0",
         "Betros, Mr. Tannous",
         "0",
         "20.0",
         "0",
         "0",
         "2648",
         "4.0125",
         "0",
         "0",
         "0",
         "1",
         "1",
         "0",
         "0"
        ],
        [
         "488",
         "0",
         "Somerton, Mr. Francis William",
         "0",
         "30.0",
         "0",
         "0",
         "A.5. 18509",
         "8.05",
         "0",
         "0",
         "0",
         "1",
         "0",
         "0",
         "1"
        ],
        [
         "691",
         "1",
         "Karun, Miss. Manca",
         "1",
         "4.0",
         "0",
         "1",
         "349256",
         "13.4167",
         "0",
         "0",
         "0",
         "1",
         "1",
         "0",
         "0"
        ],
        [
         "741",
         "0",
         "Cavendish, Mr. Tyrell William",
         "0",
         "36.0",
         "1",
         "0",
         "19877",
         "78.85",
         "1",
         "1",
         "0",
         "0",
         "0",
         "0",
         "1"
        ],
        [
         "605",
         "0",
         "Lindell, Mr. Edvard Bengtsson",
         "0",
         "36.0",
         "1",
         "0",
         "349910",
         "15.55",
         "0",
         "0",
         "0",
         "1",
         "0",
         "0",
         "1"
        ]
       ],
       "shape": {
        "columns": 15,
        "rows": 5
       }
      },
      "text/html": [
       "<div>\n",
       "<style scoped>\n",
       "    .dataframe tbody tr th:only-of-type {\n",
       "        vertical-align: middle;\n",
       "    }\n",
       "\n",
       "    .dataframe tbody tr th {\n",
       "        vertical-align: top;\n",
       "    }\n",
       "\n",
       "    .dataframe thead th {\n",
       "        text-align: right;\n",
       "    }\n",
       "</style>\n",
       "<table border=\"1\" class=\"dataframe\">\n",
       "  <thead>\n",
       "    <tr style=\"text-align: right;\">\n",
       "      <th></th>\n",
       "      <th>Survived</th>\n",
       "      <th>Name</th>\n",
       "      <th>Sex</th>\n",
       "      <th>Age</th>\n",
       "      <th>SibSp</th>\n",
       "      <th>Parch</th>\n",
       "      <th>Ticket</th>\n",
       "      <th>Fare</th>\n",
       "      <th>Cabin_missing</th>\n",
       "      <th>Pclass_1</th>\n",
       "      <th>Pclass_2</th>\n",
       "      <th>Pclass_3</th>\n",
       "      <th>Embarked_C</th>\n",
       "      <th>Embarked_Q</th>\n",
       "      <th>Embarked_S</th>\n",
       "    </tr>\n",
       "  </thead>\n",
       "  <tbody>\n",
       "    <tr>\n",
       "      <th>378</th>\n",
       "      <td>0</td>\n",
       "      <td>Betros, Mr. Tannous</td>\n",
       "      <td>0</td>\n",
       "      <td>20.0</td>\n",
       "      <td>0</td>\n",
       "      <td>0</td>\n",
       "      <td>2648</td>\n",
       "      <td>4.0125</td>\n",
       "      <td>0</td>\n",
       "      <td>0</td>\n",
       "      <td>0</td>\n",
       "      <td>1</td>\n",
       "      <td>1</td>\n",
       "      <td>0</td>\n",
       "      <td>0</td>\n",
       "    </tr>\n",
       "    <tr>\n",
       "      <th>488</th>\n",
       "      <td>0</td>\n",
       "      <td>Somerton, Mr. Francis William</td>\n",
       "      <td>0</td>\n",
       "      <td>30.0</td>\n",
       "      <td>0</td>\n",
       "      <td>0</td>\n",
       "      <td>A.5. 18509</td>\n",
       "      <td>8.0500</td>\n",
       "      <td>0</td>\n",
       "      <td>0</td>\n",
       "      <td>0</td>\n",
       "      <td>1</td>\n",
       "      <td>0</td>\n",
       "      <td>0</td>\n",
       "      <td>1</td>\n",
       "    </tr>\n",
       "    <tr>\n",
       "      <th>691</th>\n",
       "      <td>1</td>\n",
       "      <td>Karun, Miss. Manca</td>\n",
       "      <td>1</td>\n",
       "      <td>4.0</td>\n",
       "      <td>0</td>\n",
       "      <td>1</td>\n",
       "      <td>349256</td>\n",
       "      <td>13.4167</td>\n",
       "      <td>0</td>\n",
       "      <td>0</td>\n",
       "      <td>0</td>\n",
       "      <td>1</td>\n",
       "      <td>1</td>\n",
       "      <td>0</td>\n",
       "      <td>0</td>\n",
       "    </tr>\n",
       "    <tr>\n",
       "      <th>741</th>\n",
       "      <td>0</td>\n",
       "      <td>Cavendish, Mr. Tyrell William</td>\n",
       "      <td>0</td>\n",
       "      <td>36.0</td>\n",
       "      <td>1</td>\n",
       "      <td>0</td>\n",
       "      <td>19877</td>\n",
       "      <td>78.8500</td>\n",
       "      <td>1</td>\n",
       "      <td>1</td>\n",
       "      <td>0</td>\n",
       "      <td>0</td>\n",
       "      <td>0</td>\n",
       "      <td>0</td>\n",
       "      <td>1</td>\n",
       "    </tr>\n",
       "    <tr>\n",
       "      <th>605</th>\n",
       "      <td>0</td>\n",
       "      <td>Lindell, Mr. Edvard Bengtsson</td>\n",
       "      <td>0</td>\n",
       "      <td>36.0</td>\n",
       "      <td>1</td>\n",
       "      <td>0</td>\n",
       "      <td>349910</td>\n",
       "      <td>15.5500</td>\n",
       "      <td>0</td>\n",
       "      <td>0</td>\n",
       "      <td>0</td>\n",
       "      <td>1</td>\n",
       "      <td>0</td>\n",
       "      <td>0</td>\n",
       "      <td>1</td>\n",
       "    </tr>\n",
       "  </tbody>\n",
       "</table>\n",
       "</div>"
      ],
      "text/plain": [
       "     Survived                           Name  Sex   Age  SibSp  Parch  \\\n",
       "378         0            Betros, Mr. Tannous    0  20.0      0      0   \n",
       "488         0  Somerton, Mr. Francis William    0  30.0      0      0   \n",
       "691         1             Karun, Miss. Manca    1   4.0      0      1   \n",
       "741         0  Cavendish, Mr. Tyrell William    0  36.0      1      0   \n",
       "605         0  Lindell, Mr. Edvard Bengtsson    0  36.0      1      0   \n",
       "\n",
       "         Ticket     Fare  Cabin_missing  Pclass_1  Pclass_2  Pclass_3  \\\n",
       "378        2648   4.0125              0         0         0         1   \n",
       "488  A.5. 18509   8.0500              0         0         0         1   \n",
       "691      349256  13.4167              0         0         0         1   \n",
       "741       19877  78.8500              1         1         0         0   \n",
       "605      349910  15.5500              0         0         0         1   \n",
       "\n",
       "     Embarked_C  Embarked_Q  Embarked_S  \n",
       "378           1           0           0  \n",
       "488           0           0           1  \n",
       "691           1           0           0  \n",
       "741           0           0           1  \n",
       "605           0           0           1  "
      ]
     },
     "execution_count": 35,
     "metadata": {},
     "output_type": "execute_result"
    }
   ],
   "source": [
    "df_copy.info()\n",
    "df_copy.sample(5)"
   ]
  }
 ],
 "metadata": {
  "kernelspec": {
   "display_name": "kagg-env",
   "language": "python",
   "name": "python3"
  },
  "language_info": {
   "codemirror_mode": {
    "name": "ipython",
    "version": 3
   },
   "file_extension": ".py",
   "mimetype": "text/x-python",
   "name": "python",
   "nbconvert_exporter": "python",
   "pygments_lexer": "ipython3",
   "version": "3.13.7"
  }
 },
 "nbformat": 4,
 "nbformat_minor": 5
}
